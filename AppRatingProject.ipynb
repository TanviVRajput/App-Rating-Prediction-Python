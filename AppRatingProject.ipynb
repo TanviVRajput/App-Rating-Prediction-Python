{
  "cells": [
    {
      "cell_type": "code",
      "execution_count": null,
      "metadata": {
        "id": "JEHxBlwdn3sx"
      },
      "outputs": [],
      "source": [
        "import pandas as pd\n",
        "import numpy as np\n",
        "import seaborn as sns\n",
        "import matplotlib.pyplot as plt\n",
        "%matplotlib inline"
      ]
    },
    {
      "cell_type": "code",
      "execution_count": null,
      "metadata": {
        "id": "QLKSqTqIn3s0"
      },
      "outputs": [],
      "source": [
        "df= pd.read_csv('googleplaystore.csv')"
      ]
    },
    {
      "cell_type": "code",
      "execution_count": null,
      "metadata": {
        "id": "LHSGOzMkn3s0",
        "outputId": "85d8473c-a28f-4275-aae5-14a9bd39f08c"
      },
      "outputs": [
        {
          "data": {
            "text/plain": [
              "(10841, 13)"
            ]
          },
          "execution_count": 31,
          "metadata": {},
          "output_type": "execute_result"
        }
      ],
      "source": [
        "df.shape"
      ]
    },
    {
      "cell_type": "code",
      "execution_count": null,
      "metadata": {
        "id": "ZYPwCkxyn3s1",
        "outputId": "b4f5cd6d-03ff-458a-f44a-307d5065764b"
      },
      "outputs": [
        {
          "data": {
            "text/html": [
              "<div>\n",
              "<style scoped>\n",
              "    .dataframe tbody tr th:only-of-type {\n",
              "        vertical-align: middle;\n",
              "    }\n",
              "\n",
              "    .dataframe tbody tr th {\n",
              "        vertical-align: top;\n",
              "    }\n",
              "\n",
              "    .dataframe thead th {\n",
              "        text-align: right;\n",
              "    }\n",
              "</style>\n",
              "<table border=\"1\" class=\"dataframe\">\n",
              "  <thead>\n",
              "    <tr style=\"text-align: right;\">\n",
              "      <th></th>\n",
              "      <th>App</th>\n",
              "      <th>Category</th>\n",
              "      <th>Rating</th>\n",
              "      <th>Reviews</th>\n",
              "      <th>Size</th>\n",
              "      <th>Installs</th>\n",
              "      <th>Type</th>\n",
              "      <th>Price</th>\n",
              "      <th>Content Rating</th>\n",
              "      <th>Genres</th>\n",
              "      <th>Last Updated</th>\n",
              "      <th>Current Ver</th>\n",
              "      <th>Android Ver</th>\n",
              "    </tr>\n",
              "  </thead>\n",
              "  <tbody>\n",
              "    <tr>\n",
              "      <th>0</th>\n",
              "      <td>Photo Editor &amp; Candy Camera &amp; Grid &amp; ScrapBook</td>\n",
              "      <td>ART_AND_DESIGN</td>\n",
              "      <td>4.1</td>\n",
              "      <td>159</td>\n",
              "      <td>19M</td>\n",
              "      <td>10,000+</td>\n",
              "      <td>Free</td>\n",
              "      <td>0</td>\n",
              "      <td>Everyone</td>\n",
              "      <td>Art &amp; Design</td>\n",
              "      <td>January 7, 2018</td>\n",
              "      <td>1.0.0</td>\n",
              "      <td>4.0.3 and up</td>\n",
              "    </tr>\n",
              "    <tr>\n",
              "      <th>1</th>\n",
              "      <td>Coloring book moana</td>\n",
              "      <td>ART_AND_DESIGN</td>\n",
              "      <td>3.9</td>\n",
              "      <td>967</td>\n",
              "      <td>14M</td>\n",
              "      <td>500,000+</td>\n",
              "      <td>Free</td>\n",
              "      <td>0</td>\n",
              "      <td>Everyone</td>\n",
              "      <td>Art &amp; Design;Pretend Play</td>\n",
              "      <td>January 15, 2018</td>\n",
              "      <td>2.0.0</td>\n",
              "      <td>4.0.3 and up</td>\n",
              "    </tr>\n",
              "    <tr>\n",
              "      <th>2</th>\n",
              "      <td>U Launcher Lite – FREE Live Cool Themes, Hide ...</td>\n",
              "      <td>ART_AND_DESIGN</td>\n",
              "      <td>4.7</td>\n",
              "      <td>87510</td>\n",
              "      <td>8.7M</td>\n",
              "      <td>5,000,000+</td>\n",
              "      <td>Free</td>\n",
              "      <td>0</td>\n",
              "      <td>Everyone</td>\n",
              "      <td>Art &amp; Design</td>\n",
              "      <td>August 1, 2018</td>\n",
              "      <td>1.2.4</td>\n",
              "      <td>4.0.3 and up</td>\n",
              "    </tr>\n",
              "    <tr>\n",
              "      <th>3</th>\n",
              "      <td>Sketch - Draw &amp; Paint</td>\n",
              "      <td>ART_AND_DESIGN</td>\n",
              "      <td>4.5</td>\n",
              "      <td>215644</td>\n",
              "      <td>25M</td>\n",
              "      <td>50,000,000+</td>\n",
              "      <td>Free</td>\n",
              "      <td>0</td>\n",
              "      <td>Teen</td>\n",
              "      <td>Art &amp; Design</td>\n",
              "      <td>June 8, 2018</td>\n",
              "      <td>Varies with device</td>\n",
              "      <td>4.2 and up</td>\n",
              "    </tr>\n",
              "    <tr>\n",
              "      <th>4</th>\n",
              "      <td>Pixel Draw - Number Art Coloring Book</td>\n",
              "      <td>ART_AND_DESIGN</td>\n",
              "      <td>4.3</td>\n",
              "      <td>967</td>\n",
              "      <td>2.8M</td>\n",
              "      <td>100,000+</td>\n",
              "      <td>Free</td>\n",
              "      <td>0</td>\n",
              "      <td>Everyone</td>\n",
              "      <td>Art &amp; Design;Creativity</td>\n",
              "      <td>June 20, 2018</td>\n",
              "      <td>1.1</td>\n",
              "      <td>4.4 and up</td>\n",
              "    </tr>\n",
              "  </tbody>\n",
              "</table>\n",
              "</div>"
            ],
            "text/plain": [
              "                                                 App        Category  Rating  \\\n",
              "0     Photo Editor & Candy Camera & Grid & ScrapBook  ART_AND_DESIGN     4.1   \n",
              "1                                Coloring book moana  ART_AND_DESIGN     3.9   \n",
              "2  U Launcher Lite – FREE Live Cool Themes, Hide ...  ART_AND_DESIGN     4.7   \n",
              "3                              Sketch - Draw & Paint  ART_AND_DESIGN     4.5   \n",
              "4              Pixel Draw - Number Art Coloring Book  ART_AND_DESIGN     4.3   \n",
              "\n",
              "  Reviews  Size     Installs  Type Price Content Rating  \\\n",
              "0     159   19M      10,000+  Free     0       Everyone   \n",
              "1     967   14M     500,000+  Free     0       Everyone   \n",
              "2   87510  8.7M   5,000,000+  Free     0       Everyone   \n",
              "3  215644   25M  50,000,000+  Free     0           Teen   \n",
              "4     967  2.8M     100,000+  Free     0       Everyone   \n",
              "\n",
              "                      Genres      Last Updated         Current Ver  \\\n",
              "0               Art & Design   January 7, 2018               1.0.0   \n",
              "1  Art & Design;Pretend Play  January 15, 2018               2.0.0   \n",
              "2               Art & Design    August 1, 2018               1.2.4   \n",
              "3               Art & Design      June 8, 2018  Varies with device   \n",
              "4    Art & Design;Creativity     June 20, 2018                 1.1   \n",
              "\n",
              "    Android Ver  \n",
              "0  4.0.3 and up  \n",
              "1  4.0.3 and up  \n",
              "2  4.0.3 and up  \n",
              "3    4.2 and up  \n",
              "4    4.4 and up  "
            ]
          },
          "execution_count": 32,
          "metadata": {},
          "output_type": "execute_result"
        }
      ],
      "source": [
        "df.head()"
      ]
    },
    {
      "cell_type": "code",
      "execution_count": null,
      "metadata": {
        "id": "mQK3-dPkn3s1",
        "outputId": "41820b71-464f-49f4-c7d2-394115dbaecf"
      },
      "outputs": [
        {
          "data": {
            "text/html": [
              "<div>\n",
              "<style scoped>\n",
              "    .dataframe tbody tr th:only-of-type {\n",
              "        vertical-align: middle;\n",
              "    }\n",
              "\n",
              "    .dataframe tbody tr th {\n",
              "        vertical-align: top;\n",
              "    }\n",
              "\n",
              "    .dataframe thead th {\n",
              "        text-align: right;\n",
              "    }\n",
              "</style>\n",
              "<table border=\"1\" class=\"dataframe\">\n",
              "  <thead>\n",
              "    <tr style=\"text-align: right;\">\n",
              "      <th></th>\n",
              "      <th>Rating</th>\n",
              "    </tr>\n",
              "  </thead>\n",
              "  <tbody>\n",
              "    <tr>\n",
              "      <th>count</th>\n",
              "      <td>9367.000000</td>\n",
              "    </tr>\n",
              "    <tr>\n",
              "      <th>mean</th>\n",
              "      <td>4.193338</td>\n",
              "    </tr>\n",
              "    <tr>\n",
              "      <th>std</th>\n",
              "      <td>0.537431</td>\n",
              "    </tr>\n",
              "    <tr>\n",
              "      <th>min</th>\n",
              "      <td>1.000000</td>\n",
              "    </tr>\n",
              "    <tr>\n",
              "      <th>25%</th>\n",
              "      <td>4.000000</td>\n",
              "    </tr>\n",
              "    <tr>\n",
              "      <th>50%</th>\n",
              "      <td>4.300000</td>\n",
              "    </tr>\n",
              "    <tr>\n",
              "      <th>75%</th>\n",
              "      <td>4.500000</td>\n",
              "    </tr>\n",
              "    <tr>\n",
              "      <th>max</th>\n",
              "      <td>19.000000</td>\n",
              "    </tr>\n",
              "  </tbody>\n",
              "</table>\n",
              "</div>"
            ],
            "text/plain": [
              "            Rating\n",
              "count  9367.000000\n",
              "mean      4.193338\n",
              "std       0.537431\n",
              "min       1.000000\n",
              "25%       4.000000\n",
              "50%       4.300000\n",
              "75%       4.500000\n",
              "max      19.000000"
            ]
          },
          "execution_count": 33,
          "metadata": {},
          "output_type": "execute_result"
        }
      ],
      "source": [
        "df.describe()"
      ]
    },
    {
      "cell_type": "code",
      "execution_count": null,
      "metadata": {
        "id": "ILs_A5jWn3s2",
        "outputId": "f98fbde4-894f-4b21-822e-01490a9888b6"
      },
      "outputs": [
        {
          "data": {
            "text/plain": [
              "App                object\n",
              "Category           object\n",
              "Rating            float64\n",
              "Reviews            object\n",
              "Size               object\n",
              "Installs           object\n",
              "Type               object\n",
              "Price              object\n",
              "Content Rating     object\n",
              "Genres             object\n",
              "Last Updated       object\n",
              "Current Ver        object\n",
              "Android Ver        object\n",
              "dtype: object"
            ]
          },
          "execution_count": 34,
          "metadata": {},
          "output_type": "execute_result"
        }
      ],
      "source": [
        "df.dtypes"
      ]
    },
    {
      "cell_type": "code",
      "execution_count": null,
      "metadata": {
        "id": "FctEtbzpn3s2",
        "outputId": "e03b45b0-e905-4887-d09a-1c92688774c0"
      },
      "outputs": [
        {
          "name": "stdout",
          "output_type": "stream",
          "text": [
            "<class 'pandas.core.frame.DataFrame'>\n",
            "RangeIndex: 10841 entries, 0 to 10840\n",
            "Data columns (total 13 columns):\n",
            " #   Column          Non-Null Count  Dtype  \n",
            "---  ------          --------------  -----  \n",
            " 0   App             10841 non-null  object \n",
            " 1   Category        10841 non-null  object \n",
            " 2   Rating          9367 non-null   float64\n",
            " 3   Reviews         10841 non-null  object \n",
            " 4   Size            10841 non-null  object \n",
            " 5   Installs        10841 non-null  object \n",
            " 6   Type            10840 non-null  object \n",
            " 7   Price           10841 non-null  object \n",
            " 8   Content Rating  10840 non-null  object \n",
            " 9   Genres          10841 non-null  object \n",
            " 10  Last Updated    10841 non-null  object \n",
            " 11  Current Ver     10833 non-null  object \n",
            " 12  Android Ver     10838 non-null  object \n",
            "dtypes: float64(1), object(12)\n",
            "memory usage: 1.1+ MB\n"
          ]
        }
      ],
      "source": [
        "df.info()"
      ]
    },
    {
      "cell_type": "code",
      "execution_count": null,
      "metadata": {
        "id": "6_r0QGG2n3s3",
        "outputId": "c3fc1bda-4ef4-43e6-a172-7b3948350abb"
      },
      "outputs": [
        {
          "data": {
            "text/plain": [
              "App                  0\n",
              "Category             0\n",
              "Rating            1474\n",
              "Reviews              0\n",
              "Size                 0\n",
              "Installs             0\n",
              "Type                 1\n",
              "Price                0\n",
              "Content Rating       1\n",
              "Genres               0\n",
              "Last Updated         0\n",
              "Current Ver          8\n",
              "Android Ver          3\n",
              "dtype: int64"
            ]
          },
          "execution_count": 36,
          "metadata": {},
          "output_type": "execute_result"
        }
      ],
      "source": [
        "df.isnull().sum()"
      ]
    },
    {
      "cell_type": "code",
      "execution_count": null,
      "metadata": {
        "id": "ZdB8Aijrn3s3",
        "outputId": "ac8e2dd3-324f-40f3-cb79-c95ba475e783"
      },
      "outputs": [
        {
          "data": {
            "text/plain": [
              "(10841, 13)"
            ]
          },
          "execution_count": 37,
          "metadata": {},
          "output_type": "execute_result"
        }
      ],
      "source": [
        "df.shape"
      ]
    },
    {
      "cell_type": "code",
      "execution_count": null,
      "metadata": {
        "id": "knCGTYExn3s3",
        "outputId": "e168bd8f-f317-4153-a9ac-b9fac5699a88"
      },
      "outputs": [
        {
          "data": {
            "text/html": [
              "<div>\n",
              "<style scoped>\n",
              "    .dataframe tbody tr th:only-of-type {\n",
              "        vertical-align: middle;\n",
              "    }\n",
              "\n",
              "    .dataframe tbody tr th {\n",
              "        vertical-align: top;\n",
              "    }\n",
              "\n",
              "    .dataframe thead th {\n",
              "        text-align: right;\n",
              "    }\n",
              "</style>\n",
              "<table border=\"1\" class=\"dataframe\">\n",
              "  <thead>\n",
              "    <tr style=\"text-align: right;\">\n",
              "      <th></th>\n",
              "      <th>App</th>\n",
              "      <th>Category</th>\n",
              "      <th>Rating</th>\n",
              "      <th>Reviews</th>\n",
              "      <th>Size</th>\n",
              "      <th>Installs</th>\n",
              "      <th>Type</th>\n",
              "      <th>Price</th>\n",
              "      <th>Content Rating</th>\n",
              "      <th>Genres</th>\n",
              "      <th>Last Updated</th>\n",
              "      <th>Current Ver</th>\n",
              "      <th>Android Ver</th>\n",
              "    </tr>\n",
              "  </thead>\n",
              "  <tbody>\n",
              "    <tr>\n",
              "      <th>0</th>\n",
              "      <td>Photo Editor &amp; Candy Camera &amp; Grid &amp; ScrapBook</td>\n",
              "      <td>ART_AND_DESIGN</td>\n",
              "      <td>4.1</td>\n",
              "      <td>159</td>\n",
              "      <td>19M</td>\n",
              "      <td>10,000+</td>\n",
              "      <td>Free</td>\n",
              "      <td>0</td>\n",
              "      <td>Everyone</td>\n",
              "      <td>Art &amp; Design</td>\n",
              "      <td>January 7, 2018</td>\n",
              "      <td>1.0.0</td>\n",
              "      <td>4.0.3 and up</td>\n",
              "    </tr>\n",
              "    <tr>\n",
              "      <th>1</th>\n",
              "      <td>Coloring book moana</td>\n",
              "      <td>ART_AND_DESIGN</td>\n",
              "      <td>3.9</td>\n",
              "      <td>967</td>\n",
              "      <td>14M</td>\n",
              "      <td>500,000+</td>\n",
              "      <td>Free</td>\n",
              "      <td>0</td>\n",
              "      <td>Everyone</td>\n",
              "      <td>Art &amp; Design;Pretend Play</td>\n",
              "      <td>January 15, 2018</td>\n",
              "      <td>2.0.0</td>\n",
              "      <td>4.0.3 and up</td>\n",
              "    </tr>\n",
              "    <tr>\n",
              "      <th>2</th>\n",
              "      <td>U Launcher Lite – FREE Live Cool Themes, Hide ...</td>\n",
              "      <td>ART_AND_DESIGN</td>\n",
              "      <td>4.7</td>\n",
              "      <td>87510</td>\n",
              "      <td>8.7M</td>\n",
              "      <td>5,000,000+</td>\n",
              "      <td>Free</td>\n",
              "      <td>0</td>\n",
              "      <td>Everyone</td>\n",
              "      <td>Art &amp; Design</td>\n",
              "      <td>August 1, 2018</td>\n",
              "      <td>1.2.4</td>\n",
              "      <td>4.0.3 and up</td>\n",
              "    </tr>\n",
              "    <tr>\n",
              "      <th>3</th>\n",
              "      <td>Sketch - Draw &amp; Paint</td>\n",
              "      <td>ART_AND_DESIGN</td>\n",
              "      <td>4.5</td>\n",
              "      <td>215644</td>\n",
              "      <td>25M</td>\n",
              "      <td>50,000,000+</td>\n",
              "      <td>Free</td>\n",
              "      <td>0</td>\n",
              "      <td>Teen</td>\n",
              "      <td>Art &amp; Design</td>\n",
              "      <td>June 8, 2018</td>\n",
              "      <td>Varies with device</td>\n",
              "      <td>4.2 and up</td>\n",
              "    </tr>\n",
              "    <tr>\n",
              "      <th>4</th>\n",
              "      <td>Pixel Draw - Number Art Coloring Book</td>\n",
              "      <td>ART_AND_DESIGN</td>\n",
              "      <td>4.3</td>\n",
              "      <td>967</td>\n",
              "      <td>2.8M</td>\n",
              "      <td>100,000+</td>\n",
              "      <td>Free</td>\n",
              "      <td>0</td>\n",
              "      <td>Everyone</td>\n",
              "      <td>Art &amp; Design;Creativity</td>\n",
              "      <td>June 20, 2018</td>\n",
              "      <td>1.1</td>\n",
              "      <td>4.4 and up</td>\n",
              "    </tr>\n",
              "    <tr>\n",
              "      <th>...</th>\n",
              "      <td>...</td>\n",
              "      <td>...</td>\n",
              "      <td>...</td>\n",
              "      <td>...</td>\n",
              "      <td>...</td>\n",
              "      <td>...</td>\n",
              "      <td>...</td>\n",
              "      <td>...</td>\n",
              "      <td>...</td>\n",
              "      <td>...</td>\n",
              "      <td>...</td>\n",
              "      <td>...</td>\n",
              "      <td>...</td>\n",
              "    </tr>\n",
              "    <tr>\n",
              "      <th>10834</th>\n",
              "      <td>FR Calculator</td>\n",
              "      <td>FAMILY</td>\n",
              "      <td>4.0</td>\n",
              "      <td>7</td>\n",
              "      <td>2.6M</td>\n",
              "      <td>500+</td>\n",
              "      <td>Free</td>\n",
              "      <td>0</td>\n",
              "      <td>Everyone</td>\n",
              "      <td>Education</td>\n",
              "      <td>June 18, 2017</td>\n",
              "      <td>1.0.0</td>\n",
              "      <td>4.1 and up</td>\n",
              "    </tr>\n",
              "    <tr>\n",
              "      <th>10836</th>\n",
              "      <td>Sya9a Maroc - FR</td>\n",
              "      <td>FAMILY</td>\n",
              "      <td>4.5</td>\n",
              "      <td>38</td>\n",
              "      <td>53M</td>\n",
              "      <td>5,000+</td>\n",
              "      <td>Free</td>\n",
              "      <td>0</td>\n",
              "      <td>Everyone</td>\n",
              "      <td>Education</td>\n",
              "      <td>July 25, 2017</td>\n",
              "      <td>1.48</td>\n",
              "      <td>4.1 and up</td>\n",
              "    </tr>\n",
              "    <tr>\n",
              "      <th>10837</th>\n",
              "      <td>Fr. Mike Schmitz Audio Teachings</td>\n",
              "      <td>FAMILY</td>\n",
              "      <td>5.0</td>\n",
              "      <td>4</td>\n",
              "      <td>3.6M</td>\n",
              "      <td>100+</td>\n",
              "      <td>Free</td>\n",
              "      <td>0</td>\n",
              "      <td>Everyone</td>\n",
              "      <td>Education</td>\n",
              "      <td>July 6, 2018</td>\n",
              "      <td>1</td>\n",
              "      <td>4.1 and up</td>\n",
              "    </tr>\n",
              "    <tr>\n",
              "      <th>10839</th>\n",
              "      <td>The SCP Foundation DB fr nn5n</td>\n",
              "      <td>BOOKS_AND_REFERENCE</td>\n",
              "      <td>4.5</td>\n",
              "      <td>114</td>\n",
              "      <td>Varies with device</td>\n",
              "      <td>1,000+</td>\n",
              "      <td>Free</td>\n",
              "      <td>0</td>\n",
              "      <td>Mature 17+</td>\n",
              "      <td>Books &amp; Reference</td>\n",
              "      <td>January 19, 2015</td>\n",
              "      <td>Varies with device</td>\n",
              "      <td>Varies with device</td>\n",
              "    </tr>\n",
              "    <tr>\n",
              "      <th>10840</th>\n",
              "      <td>iHoroscope - 2018 Daily Horoscope &amp; Astrology</td>\n",
              "      <td>LIFESTYLE</td>\n",
              "      <td>4.5</td>\n",
              "      <td>398307</td>\n",
              "      <td>19M</td>\n",
              "      <td>10,000,000+</td>\n",
              "      <td>Free</td>\n",
              "      <td>0</td>\n",
              "      <td>Everyone</td>\n",
              "      <td>Lifestyle</td>\n",
              "      <td>July 25, 2018</td>\n",
              "      <td>Varies with device</td>\n",
              "      <td>Varies with device</td>\n",
              "    </tr>\n",
              "  </tbody>\n",
              "</table>\n",
              "<p>9360 rows × 13 columns</p>\n",
              "</div>"
            ],
            "text/plain": [
              "                                                     App             Category  \\\n",
              "0         Photo Editor & Candy Camera & Grid & ScrapBook       ART_AND_DESIGN   \n",
              "1                                    Coloring book moana       ART_AND_DESIGN   \n",
              "2      U Launcher Lite – FREE Live Cool Themes, Hide ...       ART_AND_DESIGN   \n",
              "3                                  Sketch - Draw & Paint       ART_AND_DESIGN   \n",
              "4                  Pixel Draw - Number Art Coloring Book       ART_AND_DESIGN   \n",
              "...                                                  ...                  ...   \n",
              "10834                                      FR Calculator               FAMILY   \n",
              "10836                                   Sya9a Maroc - FR               FAMILY   \n",
              "10837                   Fr. Mike Schmitz Audio Teachings               FAMILY   \n",
              "10839                      The SCP Foundation DB fr nn5n  BOOKS_AND_REFERENCE   \n",
              "10840      iHoroscope - 2018 Daily Horoscope & Astrology            LIFESTYLE   \n",
              "\n",
              "       Rating Reviews                Size     Installs  Type Price  \\\n",
              "0         4.1     159                 19M      10,000+  Free     0   \n",
              "1         3.9     967                 14M     500,000+  Free     0   \n",
              "2         4.7   87510                8.7M   5,000,000+  Free     0   \n",
              "3         4.5  215644                 25M  50,000,000+  Free     0   \n",
              "4         4.3     967                2.8M     100,000+  Free     0   \n",
              "...       ...     ...                 ...          ...   ...   ...   \n",
              "10834     4.0       7                2.6M         500+  Free     0   \n",
              "10836     4.5      38                 53M       5,000+  Free     0   \n",
              "10837     5.0       4                3.6M         100+  Free     0   \n",
              "10839     4.5     114  Varies with device       1,000+  Free     0   \n",
              "10840     4.5  398307                 19M  10,000,000+  Free     0   \n",
              "\n",
              "      Content Rating                     Genres      Last Updated  \\\n",
              "0           Everyone               Art & Design   January 7, 2018   \n",
              "1           Everyone  Art & Design;Pretend Play  January 15, 2018   \n",
              "2           Everyone               Art & Design    August 1, 2018   \n",
              "3               Teen               Art & Design      June 8, 2018   \n",
              "4           Everyone    Art & Design;Creativity     June 20, 2018   \n",
              "...              ...                        ...               ...   \n",
              "10834       Everyone                  Education     June 18, 2017   \n",
              "10836       Everyone                  Education     July 25, 2017   \n",
              "10837       Everyone                  Education      July 6, 2018   \n",
              "10839     Mature 17+          Books & Reference  January 19, 2015   \n",
              "10840       Everyone                  Lifestyle     July 25, 2018   \n",
              "\n",
              "              Current Ver         Android Ver  \n",
              "0                   1.0.0        4.0.3 and up  \n",
              "1                   2.0.0        4.0.3 and up  \n",
              "2                   1.2.4        4.0.3 and up  \n",
              "3      Varies with device          4.2 and up  \n",
              "4                     1.1          4.4 and up  \n",
              "...                   ...                 ...  \n",
              "10834               1.0.0          4.1 and up  \n",
              "10836                1.48          4.1 and up  \n",
              "10837                   1          4.1 and up  \n",
              "10839  Varies with device  Varies with device  \n",
              "10840  Varies with device  Varies with device  \n",
              "\n",
              "[9360 rows x 13 columns]"
            ]
          },
          "execution_count": 38,
          "metadata": {},
          "output_type": "execute_result"
        }
      ],
      "source": [
        "df=df.dropna()\n",
        "df"
      ]
    },
    {
      "cell_type": "code",
      "execution_count": null,
      "metadata": {
        "id": "XVCI3W6en3s4",
        "outputId": "e001273a-4baf-458b-c631-f776a567b82f"
      },
      "outputs": [
        {
          "data": {
            "text/plain": [
              "App               0\n",
              "Category          0\n",
              "Rating            0\n",
              "Reviews           0\n",
              "Size              0\n",
              "Installs          0\n",
              "Type              0\n",
              "Price             0\n",
              "Content Rating    0\n",
              "Genres            0\n",
              "Last Updated      0\n",
              "Current Ver       0\n",
              "Android Ver       0\n",
              "dtype: int64"
            ]
          },
          "execution_count": 39,
          "metadata": {},
          "output_type": "execute_result"
        }
      ],
      "source": [
        "df.isnull().sum()"
      ]
    },
    {
      "cell_type": "code",
      "execution_count": null,
      "metadata": {
        "id": "a_LJNFShn3s4",
        "outputId": "3fcea960-7ab8-4173-a412-5a311540ceb7"
      },
      "outputs": [
        {
          "name": "stdout",
          "output_type": "stream",
          "text": [
            "Varies with device    1637\n",
            "14M                    165\n",
            "12M                    161\n",
            "15M                    159\n",
            "11M                    159\n",
            "                      ... \n",
            "772k                     1\n",
            "203k                     1\n",
            "420k                     1\n",
            "170k                     1\n",
            "837k                     1\n",
            "Name: Size, Length: 413, dtype: int64\n"
          ]
        }
      ],
      "source": [
        "print(df.Size.value_counts())"
      ]
    },
    {
      "cell_type": "code",
      "execution_count": null,
      "metadata": {
        "id": "9hGvJIGIn3s4"
      },
      "outputs": [],
      "source": [
        "def change(Size):\n",
        "    if 'M'in Size:\n",
        "        x=Size[:-1]\n",
        "        x=float(x)*1000\n",
        "        return x\n",
        "\n",
        "    elif 'k'== Size[:-1]:\n",
        "        x=Size[:-1]\n",
        "        x=float(x)\n",
        "        return x\n",
        "\n",
        "    else:\n",
        "        return None"
      ]
    },
    {
      "cell_type": "code",
      "execution_count": null,
      "metadata": {
        "id": "YWtB9hPBn3s4"
      },
      "outputs": [],
      "source": [
        "df.Size=df.Size.map(change)\n"
      ]
    },
    {
      "cell_type": "code",
      "execution_count": null,
      "metadata": {
        "id": "lAv_wFpZn3s4",
        "outputId": "a5783cfd-8b86-4d11-d6b3-0bd3a0bd2d60"
      },
      "outputs": [
        {
          "data": {
            "text/plain": [
              "count      7466.000000\n",
              "mean      23746.316635\n",
              "std       23467.457006\n",
              "min        1000.000000\n",
              "25%        5900.000000\n",
              "50%       15000.000000\n",
              "75%       34000.000000\n",
              "max      100000.000000\n",
              "Name: Size, dtype: float64"
            ]
          },
          "execution_count": 43,
          "metadata": {},
          "output_type": "execute_result"
        }
      ],
      "source": [
        "df.Size.describe()"
      ]
    },
    {
      "cell_type": "code",
      "execution_count": null,
      "metadata": {
        "id": "n3_j87k4n3s5",
        "outputId": "e6580911-8837-46c0-a1d6-3835d3339b70"
      },
      "outputs": [
        {
          "name": "stdout",
          "output_type": "stream",
          "text": [
            "1894\n",
            "0\n"
          ]
        }
      ],
      "source": [
        "print(df.Size.isnull().sum())\n",
        "df.Size.fillna(method='pad',inplace=True)\n",
        "print(df.Size.isnull().sum())"
      ]
    },
    {
      "cell_type": "code",
      "execution_count": null,
      "metadata": {
        "id": "DYmYaZPCn3s5"
      },
      "outputs": [],
      "source": [
        "df.Size=df.Size.astype(\"int32\")"
      ]
    },
    {
      "cell_type": "code",
      "execution_count": null,
      "metadata": {
        "id": "g0nTkRcjn3s5"
      },
      "outputs": [],
      "source": [
        "df.Reviews=df.Reviews.astype(\"int32\")\n"
      ]
    },
    {
      "cell_type": "code",
      "execution_count": null,
      "metadata": {
        "id": "gL7l_kvon3s5",
        "outputId": "bdfc7adb-61f0-46fd-b9d4-5ea4f99db586"
      },
      "outputs": [
        {
          "data": {
            "text/plain": [
              "count    9.360000e+03\n",
              "mean     5.143767e+05\n",
              "std      3.145023e+06\n",
              "min      1.000000e+00\n",
              "25%      1.867500e+02\n",
              "50%      5.955000e+03\n",
              "75%      8.162750e+04\n",
              "max      7.815831e+07\n",
              "Name: Reviews, dtype: float64"
            ]
          },
          "execution_count": 46,
          "metadata": {},
          "output_type": "execute_result"
        }
      ],
      "source": [
        "df.Reviews.describe()"
      ]
    },
    {
      "cell_type": "code",
      "execution_count": null,
      "metadata": {
        "id": "7S1BZoJJn3s5"
      },
      "outputs": [],
      "source": []
    },
    {
      "cell_type": "code",
      "execution_count": null,
      "metadata": {
        "id": "r6eFDoDmn3s5",
        "outputId": "443383c2-b99f-4010-9fda-87729ee896fe"
      },
      "outputs": [
        {
          "data": {
            "text/plain": [
              "App                object\n",
              "Category           object\n",
              "Rating            float64\n",
              "Reviews             int32\n",
              "Size                int32\n",
              "Installs           object\n",
              "Type               object\n",
              "Price              object\n",
              "Content Rating     object\n",
              "Genres             object\n",
              "Last Updated       object\n",
              "Current Ver        object\n",
              "Android Ver        object\n",
              "dtype: object"
            ]
          },
          "execution_count": 50,
          "metadata": {},
          "output_type": "execute_result"
        }
      ],
      "source": [
        "df.dtypes"
      ]
    },
    {
      "cell_type": "code",
      "execution_count": null,
      "metadata": {
        "id": "VcAo0bbYn3s6",
        "outputId": "3d70eeec-a269-4dcc-81f0-369690dc9663"
      },
      "outputs": [
        {
          "name": "stdout",
          "output_type": "stream",
          "text": [
            "1,000,000+        1576\n",
            "10,000,000+       1252\n",
            "100,000+          1150\n",
            "10,000+           1009\n",
            "5,000,000+         752\n",
            "1,000+             712\n",
            "500,000+           537\n",
            "50,000+            466\n",
            "5,000+             431\n",
            "100,000,000+       409\n",
            "100+               309\n",
            "50,000,000+        289\n",
            "500+               201\n",
            "500,000,000+        72\n",
            "10+                 69\n",
            "1,000,000,000+      58\n",
            "50+                 56\n",
            "5+                   9\n",
            "1+                   3\n",
            "Name: Installs, dtype: int64\n"
          ]
        }
      ],
      "source": [
        "print(df.Installs.value_counts())"
      ]
    },
    {
      "cell_type": "code",
      "execution_count": null,
      "metadata": {
        "id": "N9CJVU-Ln3s6"
      },
      "outputs": [],
      "source": [
        "df.Installs = df.Installs.map(lambda x:x.replace(',','').replace('+',''))"
      ]
    },
    {
      "cell_type": "code",
      "execution_count": null,
      "metadata": {
        "id": "VK1orCfJn3s6",
        "outputId": "9cc95469-aea6-4b58-da17-41d33227d963"
      },
      "outputs": [
        {
          "name": "stdout",
          "output_type": "stream",
          "text": [
            "1000000       1576\n",
            "10000000      1252\n",
            "100000        1150\n",
            "10000         1009\n",
            "5000000        752\n",
            "1000           712\n",
            "500000         537\n",
            "50000          466\n",
            "5000           431\n",
            "100000000      409\n",
            "100            309\n",
            "50000000       289\n",
            "500            201\n",
            "500000000       72\n",
            "10              69\n",
            "1000000000      58\n",
            "50              56\n",
            "5                9\n",
            "1                3\n",
            "Name: Installs, dtype: int64\n"
          ]
        }
      ],
      "source": [
        "print(df.Installs.value_counts())"
      ]
    },
    {
      "cell_type": "code",
      "execution_count": null,
      "metadata": {
        "id": "oo63_UXzn3s6"
      },
      "outputs": [],
      "source": [
        "df['Installs'] = df['Installs'].astype(int)"
      ]
    },
    {
      "cell_type": "code",
      "execution_count": null,
      "metadata": {
        "id": "Py0xjVLMn3s6",
        "outputId": "3ba620b4-78d5-41cf-baf5-9eb2b3c8abe2"
      },
      "outputs": [
        {
          "data": {
            "text/plain": [
              "App                object\n",
              "Category           object\n",
              "Rating            float64\n",
              "Reviews             int32\n",
              "Size                int32\n",
              "Installs            int64\n",
              "Type               object\n",
              "Price              object\n",
              "Content Rating     object\n",
              "Genres             object\n",
              "Last Updated       object\n",
              "Current Ver        object\n",
              "Android Ver        object\n",
              "dtype: object"
            ]
          },
          "execution_count": 54,
          "metadata": {},
          "output_type": "execute_result"
        }
      ],
      "source": [
        "df.dtypes"
      ]
    },
    {
      "cell_type": "code",
      "execution_count": null,
      "metadata": {
        "id": "ziWL8nknn3s6"
      },
      "outputs": [],
      "source": [
        "df.Price = df.Price.map(lambda x:x.replace('$',''))\n"
      ]
    },
    {
      "cell_type": "code",
      "execution_count": null,
      "metadata": {
        "id": "Flxy8n1Yn3s7",
        "outputId": "22ca0422-912b-47ef-f3b4-e3a7a087905f"
      },
      "outputs": [
        {
          "data": {
            "text/plain": [
              "count     9360\n",
              "unique      73\n",
              "top          0\n",
              "freq      8715\n",
              "Name: Price, dtype: object"
            ]
          },
          "execution_count": 56,
          "metadata": {},
          "output_type": "execute_result"
        }
      ],
      "source": [
        "df.Price.describe()\n"
      ]
    },
    {
      "cell_type": "code",
      "execution_count": null,
      "metadata": {
        "id": "SpBew9Oun3s7",
        "outputId": "2b8a6437-cb2d-45f6-d585-d9f9f8a3bb85"
      },
      "outputs": [
        {
          "data": {
            "text/plain": [
              "0        0\n",
              "1        0\n",
              "2        0\n",
              "3        0\n",
              "4        0\n",
              "        ..\n",
              "10834    0\n",
              "10836    0\n",
              "10837    0\n",
              "10839    0\n",
              "10840    0\n",
              "Name: Price, Length: 9360, dtype: object"
            ]
          },
          "execution_count": 57,
          "metadata": {},
          "output_type": "execute_result"
        }
      ],
      "source": [
        "df['Price']"
      ]
    },
    {
      "cell_type": "code",
      "execution_count": null,
      "metadata": {
        "id": "8fHNQVZWn3s7"
      },
      "outputs": [],
      "source": [
        "df['Price'] = df['Price'].astype(float)\n",
        "df['Price'] = df['Price'].astype(int)"
      ]
    },
    {
      "cell_type": "code",
      "execution_count": null,
      "metadata": {
        "id": "FL7AtafOn3s7",
        "outputId": "ca169b5c-cae5-41e0-e524-82294b926790"
      },
      "outputs": [
        {
          "data": {
            "text/plain": [
              "count    9360.000000\n",
              "mean        4.191838\n",
              "std         0.515263\n",
              "min         1.000000\n",
              "25%         4.000000\n",
              "50%         4.300000\n",
              "75%         4.500000\n",
              "max         5.000000\n",
              "Name: Rating, dtype: float64"
            ]
          },
          "execution_count": 59,
          "metadata": {},
          "output_type": "execute_result"
        }
      ],
      "source": [
        "df.Rating.describe()"
      ]
    },
    {
      "cell_type": "code",
      "execution_count": null,
      "metadata": {
        "id": "utwQEg-7n3s8",
        "outputId": "a42b5c75-49d2-433c-fc0d-85503597bbac"
      },
      "outputs": [
        {
          "data": {
            "text/html": [
              "<div>\n",
              "<style scoped>\n",
              "    .dataframe tbody tr th:only-of-type {\n",
              "        vertical-align: middle;\n",
              "    }\n",
              "\n",
              "    .dataframe tbody tr th {\n",
              "        vertical-align: top;\n",
              "    }\n",
              "\n",
              "    .dataframe thead th {\n",
              "        text-align: right;\n",
              "    }\n",
              "</style>\n",
              "<table border=\"1\" class=\"dataframe\">\n",
              "  <thead>\n",
              "    <tr style=\"text-align: right;\">\n",
              "      <th></th>\n",
              "      <th>App</th>\n",
              "      <th>Category</th>\n",
              "      <th>Rating</th>\n",
              "      <th>Reviews</th>\n",
              "      <th>Size</th>\n",
              "      <th>Installs</th>\n",
              "      <th>Type</th>\n",
              "      <th>Price</th>\n",
              "      <th>Content Rating</th>\n",
              "      <th>Genres</th>\n",
              "      <th>Last Updated</th>\n",
              "      <th>Current Ver</th>\n",
              "      <th>Android Ver</th>\n",
              "    </tr>\n",
              "  </thead>\n",
              "  <tbody>\n",
              "    <tr>\n",
              "      <th>2454</th>\n",
              "      <td>KBA-EZ Health Guide</td>\n",
              "      <td>MEDICAL</td>\n",
              "      <td>5.0</td>\n",
              "      <td>4</td>\n",
              "      <td>25000</td>\n",
              "      <td>1</td>\n",
              "      <td>Free</td>\n",
              "      <td>0</td>\n",
              "      <td>Everyone</td>\n",
              "      <td>Medical</td>\n",
              "      <td>August 2, 2018</td>\n",
              "      <td>1.0.72</td>\n",
              "      <td>4.0.3 and up</td>\n",
              "    </tr>\n",
              "    <tr>\n",
              "      <th>4663</th>\n",
              "      <td>Alarmy (Sleep If U Can) - Pro</td>\n",
              "      <td>LIFESTYLE</td>\n",
              "      <td>4.8</td>\n",
              "      <td>10249</td>\n",
              "      <td>30000</td>\n",
              "      <td>10000</td>\n",
              "      <td>Paid</td>\n",
              "      <td>2</td>\n",
              "      <td>Everyone</td>\n",
              "      <td>Lifestyle</td>\n",
              "      <td>July 30, 2018</td>\n",
              "      <td>Varies with device</td>\n",
              "      <td>Varies with device</td>\n",
              "    </tr>\n",
              "    <tr>\n",
              "      <th>5917</th>\n",
              "      <td>Ra Ga Ba</td>\n",
              "      <td>GAME</td>\n",
              "      <td>5.0</td>\n",
              "      <td>2</td>\n",
              "      <td>20000</td>\n",
              "      <td>1</td>\n",
              "      <td>Paid</td>\n",
              "      <td>1</td>\n",
              "      <td>Everyone</td>\n",
              "      <td>Arcade</td>\n",
              "      <td>February 8, 2017</td>\n",
              "      <td>1.0.4</td>\n",
              "      <td>2.3 and up</td>\n",
              "    </tr>\n",
              "    <tr>\n",
              "      <th>6700</th>\n",
              "      <td>Brick Breaker BR</td>\n",
              "      <td>GAME</td>\n",
              "      <td>5.0</td>\n",
              "      <td>7</td>\n",
              "      <td>19000</td>\n",
              "      <td>5</td>\n",
              "      <td>Free</td>\n",
              "      <td>0</td>\n",
              "      <td>Everyone</td>\n",
              "      <td>Arcade</td>\n",
              "      <td>July 23, 2018</td>\n",
              "      <td>1</td>\n",
              "      <td>4.1 and up</td>\n",
              "    </tr>\n",
              "    <tr>\n",
              "      <th>7402</th>\n",
              "      <td>Trovami se ci riesci</td>\n",
              "      <td>GAME</td>\n",
              "      <td>5.0</td>\n",
              "      <td>11</td>\n",
              "      <td>6100</td>\n",
              "      <td>10</td>\n",
              "      <td>Free</td>\n",
              "      <td>0</td>\n",
              "      <td>Everyone</td>\n",
              "      <td>Arcade</td>\n",
              "      <td>March 11, 2017</td>\n",
              "      <td>0.1</td>\n",
              "      <td>2.3 and up</td>\n",
              "    </tr>\n",
              "    <tr>\n",
              "      <th>8591</th>\n",
              "      <td>DN Blog</td>\n",
              "      <td>SOCIAL</td>\n",
              "      <td>5.0</td>\n",
              "      <td>20</td>\n",
              "      <td>4200</td>\n",
              "      <td>10</td>\n",
              "      <td>Free</td>\n",
              "      <td>0</td>\n",
              "      <td>Teen</td>\n",
              "      <td>Social</td>\n",
              "      <td>July 23, 2018</td>\n",
              "      <td>1</td>\n",
              "      <td>4.0 and up</td>\n",
              "    </tr>\n",
              "    <tr>\n",
              "      <th>10697</th>\n",
              "      <td>Mu.F.O.</td>\n",
              "      <td>GAME</td>\n",
              "      <td>5.0</td>\n",
              "      <td>2</td>\n",
              "      <td>16000</td>\n",
              "      <td>1</td>\n",
              "      <td>Paid</td>\n",
              "      <td>0</td>\n",
              "      <td>Everyone</td>\n",
              "      <td>Arcade</td>\n",
              "      <td>March 3, 2017</td>\n",
              "      <td>1</td>\n",
              "      <td>2.3 and up</td>\n",
              "    </tr>\n",
              "  </tbody>\n",
              "</table>\n",
              "</div>"
            ],
            "text/plain": [
              "                                 App   Category  Rating  Reviews   Size  \\\n",
              "2454             KBA-EZ Health Guide    MEDICAL     5.0        4  25000   \n",
              "4663   Alarmy (Sleep If U Can) - Pro  LIFESTYLE     4.8    10249  30000   \n",
              "5917                        Ra Ga Ba       GAME     5.0        2  20000   \n",
              "6700                Brick Breaker BR       GAME     5.0        7  19000   \n",
              "7402            Trovami se ci riesci       GAME     5.0       11   6100   \n",
              "8591                         DN Blog     SOCIAL     5.0       20   4200   \n",
              "10697                        Mu.F.O.       GAME     5.0        2  16000   \n",
              "\n",
              "       Installs  Type  Price Content Rating     Genres      Last Updated  \\\n",
              "2454          1  Free      0       Everyone    Medical    August 2, 2018   \n",
              "4663      10000  Paid      2       Everyone  Lifestyle     July 30, 2018   \n",
              "5917          1  Paid      1       Everyone     Arcade  February 8, 2017   \n",
              "6700          5  Free      0       Everyone     Arcade     July 23, 2018   \n",
              "7402         10  Free      0       Everyone     Arcade    March 11, 2017   \n",
              "8591         10  Free      0           Teen     Social     July 23, 2018   \n",
              "10697         1  Paid      0       Everyone     Arcade     March 3, 2017   \n",
              "\n",
              "              Current Ver         Android Ver  \n",
              "2454               1.0.72        4.0.3 and up  \n",
              "4663   Varies with device  Varies with device  \n",
              "5917                1.0.4          2.3 and up  \n",
              "6700                    1          4.1 and up  \n",
              "7402                  0.1          2.3 and up  \n",
              "8591                    1          4.0 and up  \n",
              "10697                   1          2.3 and up  "
            ]
          },
          "execution_count": 60,
          "metadata": {},
          "output_type": "execute_result"
        }
      ],
      "source": [
        "df[df.Reviews>df.Installs]"
      ]
    },
    {
      "cell_type": "code",
      "execution_count": null,
      "metadata": {
        "id": "hXcEh_IOn3s8"
      },
      "outputs": [],
      "source": [
        "df=df[df.Reviews<=df.Installs].copy()\n"
      ]
    },
    {
      "cell_type": "code",
      "execution_count": null,
      "metadata": {
        "id": "LR7s8LFxn3s8",
        "outputId": "a05f0e0e-f231-4449-f581-22544b6ad6c3"
      },
      "outputs": [
        {
          "data": {
            "text/plain": [
              "(9353, 13)"
            ]
          },
          "execution_count": 62,
          "metadata": {},
          "output_type": "execute_result"
        }
      ],
      "source": [
        "df.shape"
      ]
    },
    {
      "cell_type": "code",
      "execution_count": null,
      "metadata": {
        "id": "SEQhDVzPn3s8",
        "outputId": "11f7f3ae-6bf9-4cf8-fc9e-3ed0e7631e86"
      },
      "outputs": [
        {
          "data": {
            "text/html": [
              "<div>\n",
              "<style scoped>\n",
              "    .dataframe tbody tr th:only-of-type {\n",
              "        vertical-align: middle;\n",
              "    }\n",
              "\n",
              "    .dataframe tbody tr th {\n",
              "        vertical-align: top;\n",
              "    }\n",
              "\n",
              "    .dataframe thead th {\n",
              "        text-align: right;\n",
              "    }\n",
              "</style>\n",
              "<table border=\"1\" class=\"dataframe\">\n",
              "  <thead>\n",
              "    <tr style=\"text-align: right;\">\n",
              "      <th></th>\n",
              "      <th>App</th>\n",
              "      <th>Category</th>\n",
              "      <th>Rating</th>\n",
              "      <th>Reviews</th>\n",
              "      <th>Size</th>\n",
              "      <th>Installs</th>\n",
              "      <th>Type</th>\n",
              "      <th>Price</th>\n",
              "      <th>Content Rating</th>\n",
              "      <th>Genres</th>\n",
              "      <th>Last Updated</th>\n",
              "      <th>Current Ver</th>\n",
              "      <th>Android Ver</th>\n",
              "    </tr>\n",
              "  </thead>\n",
              "  <tbody>\n",
              "  </tbody>\n",
              "</table>\n",
              "</div>"
            ],
            "text/plain": [
              "Empty DataFrame\n",
              "Columns: [App, Category, Rating, Reviews, Size, Installs, Type, Price, Content Rating, Genres, Last Updated, Current Ver, Android Ver]\n",
              "Index: []"
            ]
          },
          "execution_count": 63,
          "metadata": {},
          "output_type": "execute_result"
        }
      ],
      "source": [
        "df[(df.Type == \"Free\") & (df.Price>0)]"
      ]
    },
    {
      "cell_type": "code",
      "execution_count": null,
      "metadata": {
        "id": "lgbACV5Dn3s9",
        "outputId": "5aff1db6-6079-4c6a-a2d0-e36b44185577"
      },
      "outputs": [
        {
          "name": "stderr",
          "output_type": "stream",
          "text": [
            "/usr/local/lib/python3.7/site-packages/seaborn/_decorators.py:43: FutureWarning: Pass the following variable as a keyword arg: x. From version 0.12, the only valid positional argument will be `data`, and passing other arguments without an explicit keyword will result in an error or misinterpretation.\n",
            "  FutureWarning\n"
          ]
        },
        {
          "data": {
            "image/png": "[encoded data removed]",
            "text/plain": [
              "<Figure size 432x288 with 1 Axes>"
            ]
          },
          "metadata": {
            "needs_background": "light"
          },
          "output_type": "display_data"
        }
      ],
      "source": [
        "sns.boxplot(df.Price)\n",
        "plt.show()"
      ]
    },
    {
      "cell_type": "code",
      "execution_count": null,
      "metadata": {
        "id": "57YLaTvrn3s9",
        "outputId": "c63d7f9c-afeb-435b-b9df-12912e901656"
      },
      "outputs": [
        {
          "name": "stderr",
          "output_type": "stream",
          "text": [
            "/usr/local/lib/python3.7/site-packages/seaborn/_decorators.py:43: FutureWarning: Pass the following variable as a keyword arg: x. From version 0.12, the only valid positional argument will be `data`, and passing other arguments without an explicit keyword will result in an error or misinterpretation.\n",
            "  FutureWarning\n"
          ]
        },
        {
          "data": {
            "image/png": "[encoded data removed]",
            "text/plain": [
              "<Figure size 432x288 with 1 Axes>"
            ]
          },
          "metadata": {
            "needs_background": "light"
          },
          "output_type": "display_data"
        }
      ],
      "source": [
        "sns.boxplot(df.Reviews)\n",
        "plt.show()"
      ]
    },
    {
      "cell_type": "code",
      "execution_count": null,
      "metadata": {
        "id": "wlyGiG6dn3s9",
        "outputId": "d69b523d-afc4-4bc8-ae76-35f7cad15c18"
      },
      "outputs": [
        {
          "data": {
            "image/png": "[encoded data removed]",
            "text/plain": [
              "<Figure size 432x288 with 1 Axes>"
            ]
          },
          "metadata": {
            "needs_background": "light"
          },
          "output_type": "display_data"
        }
      ],
      "source": [
        "df.Rating.plot.hist()\n",
        "plt.show()"
      ]
    },
    {
      "cell_type": "code",
      "execution_count": null,
      "metadata": {
        "id": "M-K7NiU7n3s9",
        "outputId": "1dad7ca2-f2af-41a0-def6-83dc6197102f"
      },
      "outputs": [
        {
          "data": {
            "image/png": "[encoded data removed]",
            "text/plain": [
              "<Figure size 432x288 with 1 Axes>"
            ]
          },
          "metadata": {
            "needs_background": "light"
          },
          "output_type": "display_data"
        }
      ],
      "source": [
        "df.Size.plot.hist()\n",
        "plt.show()"
      ]
    },
    {
      "cell_type": "code",
      "execution_count": null,
      "metadata": {
        "id": "bRPnDG5Fn3tB",
        "outputId": "c5a4b1f3-7268-437c-e119-629b4bd11b3d"
      },
      "outputs": [
        {
          "data": {
            "text/plain": [
              "15"
            ]
          },
          "execution_count": 68,
          "metadata": {},
          "output_type": "execute_result"
        }
      ],
      "source": [
        "len(df[df.Price>200])"
      ]
    },
    {
      "cell_type": "code",
      "execution_count": null,
      "metadata": {
        "id": "BXv_6nFSn3tB",
        "outputId": "a722313e-3c09-422d-cbae-cb65bc17788b"
      },
      "outputs": [
        {
          "data": {
            "text/html": [
              "<div>\n",
              "<style scoped>\n",
              "    .dataframe tbody tr th:only-of-type {\n",
              "        vertical-align: middle;\n",
              "    }\n",
              "\n",
              "    .dataframe tbody tr th {\n",
              "        vertical-align: top;\n",
              "    }\n",
              "\n",
              "    .dataframe thead th {\n",
              "        text-align: right;\n",
              "    }\n",
              "</style>\n",
              "<table border=\"1\" class=\"dataframe\">\n",
              "  <thead>\n",
              "    <tr style=\"text-align: right;\">\n",
              "      <th></th>\n",
              "      <th>App</th>\n",
              "      <th>Category</th>\n",
              "      <th>Rating</th>\n",
              "      <th>Reviews</th>\n",
              "      <th>Size</th>\n",
              "      <th>Installs</th>\n",
              "      <th>Type</th>\n",
              "      <th>Price</th>\n",
              "      <th>Content Rating</th>\n",
              "      <th>Genres</th>\n",
              "      <th>Last Updated</th>\n",
              "      <th>Current Ver</th>\n",
              "      <th>Android Ver</th>\n",
              "    </tr>\n",
              "  </thead>\n",
              "  <tbody>\n",
              "    <tr>\n",
              "      <th>4197</th>\n",
              "      <td>most expensive app (H)</td>\n",
              "      <td>FAMILY</td>\n",
              "      <td>4.3</td>\n",
              "      <td>6</td>\n",
              "      <td>1500</td>\n",
              "      <td>100</td>\n",
              "      <td>Paid</td>\n",
              "      <td>399</td>\n",
              "      <td>Everyone</td>\n",
              "      <td>Entertainment</td>\n",
              "      <td>July 16, 2018</td>\n",
              "      <td>1</td>\n",
              "      <td>7.0 and up</td>\n",
              "    </tr>\n",
              "    <tr>\n",
              "      <th>4362</th>\n",
              "      <td>💎 I'm rich</td>\n",
              "      <td>LIFESTYLE</td>\n",
              "      <td>3.8</td>\n",
              "      <td>718</td>\n",
              "      <td>26000</td>\n",
              "      <td>10000</td>\n",
              "      <td>Paid</td>\n",
              "      <td>399</td>\n",
              "      <td>Everyone</td>\n",
              "      <td>Lifestyle</td>\n",
              "      <td>March 11, 2018</td>\n",
              "      <td>1.0.0</td>\n",
              "      <td>4.4 and up</td>\n",
              "    </tr>\n",
              "    <tr>\n",
              "      <th>4367</th>\n",
              "      <td>I'm Rich - Trump Edition</td>\n",
              "      <td>LIFESTYLE</td>\n",
              "      <td>3.6</td>\n",
              "      <td>275</td>\n",
              "      <td>7300</td>\n",
              "      <td>10000</td>\n",
              "      <td>Paid</td>\n",
              "      <td>400</td>\n",
              "      <td>Everyone</td>\n",
              "      <td>Lifestyle</td>\n",
              "      <td>May 3, 2018</td>\n",
              "      <td>1.0.1</td>\n",
              "      <td>4.1 and up</td>\n",
              "    </tr>\n",
              "    <tr>\n",
              "      <th>5351</th>\n",
              "      <td>I am rich</td>\n",
              "      <td>LIFESTYLE</td>\n",
              "      <td>3.8</td>\n",
              "      <td>3547</td>\n",
              "      <td>1800</td>\n",
              "      <td>100000</td>\n",
              "      <td>Paid</td>\n",
              "      <td>399</td>\n",
              "      <td>Everyone</td>\n",
              "      <td>Lifestyle</td>\n",
              "      <td>January 12, 2018</td>\n",
              "      <td>2</td>\n",
              "      <td>4.0.3 and up</td>\n",
              "    </tr>\n",
              "    <tr>\n",
              "      <th>5354</th>\n",
              "      <td>I am Rich Plus</td>\n",
              "      <td>FAMILY</td>\n",
              "      <td>4.0</td>\n",
              "      <td>856</td>\n",
              "      <td>8700</td>\n",
              "      <td>10000</td>\n",
              "      <td>Paid</td>\n",
              "      <td>399</td>\n",
              "      <td>Everyone</td>\n",
              "      <td>Entertainment</td>\n",
              "      <td>May 19, 2018</td>\n",
              "      <td>3</td>\n",
              "      <td>4.4 and up</td>\n",
              "    </tr>\n",
              "    <tr>\n",
              "      <th>5355</th>\n",
              "      <td>I am rich VIP</td>\n",
              "      <td>LIFESTYLE</td>\n",
              "      <td>3.8</td>\n",
              "      <td>411</td>\n",
              "      <td>2600</td>\n",
              "      <td>10000</td>\n",
              "      <td>Paid</td>\n",
              "      <td>299</td>\n",
              "      <td>Everyone</td>\n",
              "      <td>Lifestyle</td>\n",
              "      <td>July 21, 2018</td>\n",
              "      <td>1.1.1</td>\n",
              "      <td>4.3 and up</td>\n",
              "    </tr>\n",
              "    <tr>\n",
              "      <th>5356</th>\n",
              "      <td>I Am Rich Premium</td>\n",
              "      <td>FINANCE</td>\n",
              "      <td>4.1</td>\n",
              "      <td>1867</td>\n",
              "      <td>4700</td>\n",
              "      <td>50000</td>\n",
              "      <td>Paid</td>\n",
              "      <td>399</td>\n",
              "      <td>Everyone</td>\n",
              "      <td>Finance</td>\n",
              "      <td>November 12, 2017</td>\n",
              "      <td>1.6</td>\n",
              "      <td>4.0 and up</td>\n",
              "    </tr>\n",
              "    <tr>\n",
              "      <th>5357</th>\n",
              "      <td>I am extremely Rich</td>\n",
              "      <td>LIFESTYLE</td>\n",
              "      <td>2.9</td>\n",
              "      <td>41</td>\n",
              "      <td>2900</td>\n",
              "      <td>1000</td>\n",
              "      <td>Paid</td>\n",
              "      <td>379</td>\n",
              "      <td>Everyone</td>\n",
              "      <td>Lifestyle</td>\n",
              "      <td>July 1, 2018</td>\n",
              "      <td>1</td>\n",
              "      <td>4.0 and up</td>\n",
              "    </tr>\n",
              "    <tr>\n",
              "      <th>5358</th>\n",
              "      <td>I am Rich!</td>\n",
              "      <td>FINANCE</td>\n",
              "      <td>3.8</td>\n",
              "      <td>93</td>\n",
              "      <td>22000</td>\n",
              "      <td>1000</td>\n",
              "      <td>Paid</td>\n",
              "      <td>399</td>\n",
              "      <td>Everyone</td>\n",
              "      <td>Finance</td>\n",
              "      <td>December 11, 2017</td>\n",
              "      <td>1</td>\n",
              "      <td>4.1 and up</td>\n",
              "    </tr>\n",
              "    <tr>\n",
              "      <th>5359</th>\n",
              "      <td>I am rich(premium)</td>\n",
              "      <td>FINANCE</td>\n",
              "      <td>3.5</td>\n",
              "      <td>472</td>\n",
              "      <td>22000</td>\n",
              "      <td>5000</td>\n",
              "      <td>Paid</td>\n",
              "      <td>399</td>\n",
              "      <td>Everyone</td>\n",
              "      <td>Finance</td>\n",
              "      <td>May 1, 2017</td>\n",
              "      <td>3.4</td>\n",
              "      <td>4.4 and up</td>\n",
              "    </tr>\n",
              "    <tr>\n",
              "      <th>5362</th>\n",
              "      <td>I Am Rich Pro</td>\n",
              "      <td>FAMILY</td>\n",
              "      <td>4.4</td>\n",
              "      <td>201</td>\n",
              "      <td>2700</td>\n",
              "      <td>5000</td>\n",
              "      <td>Paid</td>\n",
              "      <td>399</td>\n",
              "      <td>Everyone</td>\n",
              "      <td>Entertainment</td>\n",
              "      <td>May 30, 2017</td>\n",
              "      <td>1.54</td>\n",
              "      <td>1.6 and up</td>\n",
              "    </tr>\n",
              "    <tr>\n",
              "      <th>5364</th>\n",
              "      <td>I am rich (Most expensive app)</td>\n",
              "      <td>FINANCE</td>\n",
              "      <td>4.1</td>\n",
              "      <td>129</td>\n",
              "      <td>2700</td>\n",
              "      <td>1000</td>\n",
              "      <td>Paid</td>\n",
              "      <td>399</td>\n",
              "      <td>Teen</td>\n",
              "      <td>Finance</td>\n",
              "      <td>December 6, 2017</td>\n",
              "      <td>2</td>\n",
              "      <td>4.0.3 and up</td>\n",
              "    </tr>\n",
              "    <tr>\n",
              "      <th>5366</th>\n",
              "      <td>I Am Rich</td>\n",
              "      <td>FAMILY</td>\n",
              "      <td>3.6</td>\n",
              "      <td>217</td>\n",
              "      <td>4900</td>\n",
              "      <td>10000</td>\n",
              "      <td>Paid</td>\n",
              "      <td>389</td>\n",
              "      <td>Everyone</td>\n",
              "      <td>Entertainment</td>\n",
              "      <td>June 22, 2018</td>\n",
              "      <td>1.5</td>\n",
              "      <td>4.2 and up</td>\n",
              "    </tr>\n",
              "    <tr>\n",
              "      <th>5369</th>\n",
              "      <td>I am Rich</td>\n",
              "      <td>FINANCE</td>\n",
              "      <td>4.3</td>\n",
              "      <td>180</td>\n",
              "      <td>3800</td>\n",
              "      <td>5000</td>\n",
              "      <td>Paid</td>\n",
              "      <td>399</td>\n",
              "      <td>Everyone</td>\n",
              "      <td>Finance</td>\n",
              "      <td>March 22, 2018</td>\n",
              "      <td>1</td>\n",
              "      <td>4.2 and up</td>\n",
              "    </tr>\n",
              "    <tr>\n",
              "      <th>5373</th>\n",
              "      <td>I AM RICH PRO PLUS</td>\n",
              "      <td>FINANCE</td>\n",
              "      <td>4.0</td>\n",
              "      <td>36</td>\n",
              "      <td>41000</td>\n",
              "      <td>1000</td>\n",
              "      <td>Paid</td>\n",
              "      <td>399</td>\n",
              "      <td>Everyone</td>\n",
              "      <td>Finance</td>\n",
              "      <td>June 25, 2018</td>\n",
              "      <td>1.0.2</td>\n",
              "      <td>4.1 and up</td>\n",
              "    </tr>\n",
              "  </tbody>\n",
              "</table>\n",
              "</div>"
            ],
            "text/plain": [
              "                                 App   Category  Rating  Reviews   Size  \\\n",
              "4197          most expensive app (H)     FAMILY     4.3        6   1500   \n",
              "4362                      💎 I'm rich  LIFESTYLE     3.8      718  26000   \n",
              "4367        I'm Rich - Trump Edition  LIFESTYLE     3.6      275   7300   \n",
              "5351                       I am rich  LIFESTYLE     3.8     3547   1800   \n",
              "5354                  I am Rich Plus     FAMILY     4.0      856   8700   \n",
              "5355                   I am rich VIP  LIFESTYLE     3.8      411   2600   \n",
              "5356               I Am Rich Premium    FINANCE     4.1     1867   4700   \n",
              "5357             I am extremely Rich  LIFESTYLE     2.9       41   2900   \n",
              "5358                      I am Rich!    FINANCE     3.8       93  22000   \n",
              "5359              I am rich(premium)    FINANCE     3.5      472  22000   \n",
              "5362                   I Am Rich Pro     FAMILY     4.4      201   2700   \n",
              "5364  I am rich (Most expensive app)    FINANCE     4.1      129   2700   \n",
              "5366                       I Am Rich     FAMILY     3.6      217   4900   \n",
              "5369                       I am Rich    FINANCE     4.3      180   3800   \n",
              "5373              I AM RICH PRO PLUS    FINANCE     4.0       36  41000   \n",
              "\n",
              "      Installs  Type  Price Content Rating         Genres       Last Updated  \\\n",
              "4197       100  Paid    399       Everyone  Entertainment      July 16, 2018   \n",
              "4362     10000  Paid    399       Everyone      Lifestyle     March 11, 2018   \n",
              "4367     10000  Paid    400       Everyone      Lifestyle        May 3, 2018   \n",
              "5351    100000  Paid    399       Everyone      Lifestyle   January 12, 2018   \n",
              "5354     10000  Paid    399       Everyone  Entertainment       May 19, 2018   \n",
              "5355     10000  Paid    299       Everyone      Lifestyle      July 21, 2018   \n",
              "5356     50000  Paid    399       Everyone        Finance  November 12, 2017   \n",
              "5357      1000  Paid    379       Everyone      Lifestyle       July 1, 2018   \n",
              "5358      1000  Paid    399       Everyone        Finance  December 11, 2017   \n",
              "5359      5000  Paid    399       Everyone        Finance        May 1, 2017   \n",
              "5362      5000  Paid    399       Everyone  Entertainment       May 30, 2017   \n",
              "5364      1000  Paid    399           Teen        Finance   December 6, 2017   \n",
              "5366     10000  Paid    389       Everyone  Entertainment      June 22, 2018   \n",
              "5369      5000  Paid    399       Everyone        Finance     March 22, 2018   \n",
              "5373      1000  Paid    399       Everyone        Finance      June 25, 2018   \n",
              "\n",
              "     Current Ver   Android Ver  \n",
              "4197           1    7.0 and up  \n",
              "4362       1.0.0    4.4 and up  \n",
              "4367       1.0.1    4.1 and up  \n",
              "5351           2  4.0.3 and up  \n",
              "5354           3    4.4 and up  \n",
              "5355       1.1.1    4.3 and up  \n",
              "5356         1.6    4.0 and up  \n",
              "5357           1    4.0 and up  \n",
              "5358           1    4.1 and up  \n",
              "5359         3.4    4.4 and up  \n",
              "5362        1.54    1.6 and up  \n",
              "5364           2  4.0.3 and up  \n",
              "5366         1.5    4.2 and up  \n",
              "5369           1    4.2 and up  \n",
              "5373       1.0.2    4.1 and up  "
            ]
          },
          "execution_count": 69,
          "metadata": {},
          "output_type": "execute_result"
        }
      ],
      "source": [
        "df[df.Price>200]"
      ]
    },
    {
      "cell_type": "code",
      "execution_count": null,
      "metadata": {
        "id": "CDtC1w6Wn3tC"
      },
      "outputs": [],
      "source": [
        "df=df[df.Price<=200].copy()"
      ]
    },
    {
      "cell_type": "code",
      "execution_count": null,
      "metadata": {
        "id": "9MNYsMdUn3tC",
        "outputId": "2ba146c7-7dcb-4f57-c265-0c889c649ce5"
      },
      "outputs": [
        {
          "data": {
            "text/plain": [
              "(9338, 13)"
            ]
          },
          "execution_count": 71,
          "metadata": {},
          "output_type": "execute_result"
        }
      ],
      "source": [
        "df.shape"
      ]
    },
    {
      "cell_type": "code",
      "execution_count": null,
      "metadata": {
        "id": "dcWkbSUan3tC",
        "outputId": "9fadb212-0141-4d76-baae-c4515f796a6b"
      },
      "outputs": [
        {
          "data": {
            "text/plain": [
              "453"
            ]
          },
          "execution_count": 72,
          "metadata": {},
          "output_type": "execute_result"
        }
      ],
      "source": [
        "len(df[df.Reviews>2000000])"
      ]
    },
    {
      "cell_type": "code",
      "execution_count": null,
      "metadata": {
        "id": "IOxMpnyin3tC",
        "outputId": "456c5dba-7199-4467-c6f3-9e3825372492"
      },
      "outputs": [
        {
          "data": {
            "text/html": [
              "<div>\n",
              "<style scoped>\n",
              "    .dataframe tbody tr th:only-of-type {\n",
              "        vertical-align: middle;\n",
              "    }\n",
              "\n",
              "    .dataframe tbody tr th {\n",
              "        vertical-align: top;\n",
              "    }\n",
              "\n",
              "    .dataframe thead th {\n",
              "        text-align: right;\n",
              "    }\n",
              "</style>\n",
              "<table border=\"1\" class=\"dataframe\">\n",
              "  <thead>\n",
              "    <tr style=\"text-align: right;\">\n",
              "      <th></th>\n",
              "      <th>App</th>\n",
              "      <th>Category</th>\n",
              "      <th>Rating</th>\n",
              "      <th>Reviews</th>\n",
              "      <th>Size</th>\n",
              "      <th>Installs</th>\n",
              "      <th>Type</th>\n",
              "      <th>Price</th>\n",
              "      <th>Content Rating</th>\n",
              "      <th>Genres</th>\n",
              "      <th>Last Updated</th>\n",
              "      <th>Current Ver</th>\n",
              "      <th>Android Ver</th>\n",
              "    </tr>\n",
              "  </thead>\n",
              "  <tbody>\n",
              "    <tr>\n",
              "      <th>139</th>\n",
              "      <td>Wattpad 📖 Free Books</td>\n",
              "      <td>BOOKS_AND_REFERENCE</td>\n",
              "      <td>4.6</td>\n",
              "      <td>2914724</td>\n",
              "      <td>3100</td>\n",
              "      <td>100000000</td>\n",
              "      <td>Free</td>\n",
              "      <td>0</td>\n",
              "      <td>Teen</td>\n",
              "      <td>Books &amp; Reference</td>\n",
              "      <td>August 1, 2018</td>\n",
              "      <td>Varies with device</td>\n",
              "      <td>Varies with device</td>\n",
              "    </tr>\n",
              "    <tr>\n",
              "      <th>335</th>\n",
              "      <td>Messenger – Text and Video Chat for Free</td>\n",
              "      <td>COMMUNICATION</td>\n",
              "      <td>4.0</td>\n",
              "      <td>56642847</td>\n",
              "      <td>35000</td>\n",
              "      <td>1000000000</td>\n",
              "      <td>Free</td>\n",
              "      <td>0</td>\n",
              "      <td>Everyone</td>\n",
              "      <td>Communication</td>\n",
              "      <td>August 1, 2018</td>\n",
              "      <td>Varies with device</td>\n",
              "      <td>Varies with device</td>\n",
              "    </tr>\n",
              "    <tr>\n",
              "      <th>336</th>\n",
              "      <td>WhatsApp Messenger</td>\n",
              "      <td>COMMUNICATION</td>\n",
              "      <td>4.4</td>\n",
              "      <td>69119316</td>\n",
              "      <td>35000</td>\n",
              "      <td>1000000000</td>\n",
              "      <td>Free</td>\n",
              "      <td>0</td>\n",
              "      <td>Everyone</td>\n",
              "      <td>Communication</td>\n",
              "      <td>August 3, 2018</td>\n",
              "      <td>Varies with device</td>\n",
              "      <td>Varies with device</td>\n",
              "    </tr>\n",
              "    <tr>\n",
              "      <th>338</th>\n",
              "      <td>Google Chrome: Fast &amp; Secure</td>\n",
              "      <td>COMMUNICATION</td>\n",
              "      <td>4.3</td>\n",
              "      <td>9642995</td>\n",
              "      <td>17000</td>\n",
              "      <td>1000000000</td>\n",
              "      <td>Free</td>\n",
              "      <td>0</td>\n",
              "      <td>Everyone</td>\n",
              "      <td>Communication</td>\n",
              "      <td>August 1, 2018</td>\n",
              "      <td>Varies with device</td>\n",
              "      <td>Varies with device</td>\n",
              "    </tr>\n",
              "    <tr>\n",
              "      <th>340</th>\n",
              "      <td>Gmail</td>\n",
              "      <td>COMMUNICATION</td>\n",
              "      <td>4.3</td>\n",
              "      <td>4604324</td>\n",
              "      <td>17000</td>\n",
              "      <td>1000000000</td>\n",
              "      <td>Free</td>\n",
              "      <td>0</td>\n",
              "      <td>Everyone</td>\n",
              "      <td>Communication</td>\n",
              "      <td>August 2, 2018</td>\n",
              "      <td>Varies with device</td>\n",
              "      <td>Varies with device</td>\n",
              "    </tr>\n",
              "  </tbody>\n",
              "</table>\n",
              "</div>"
            ],
            "text/plain": [
              "                                          App             Category  Rating  \\\n",
              "139                      Wattpad 📖 Free Books  BOOKS_AND_REFERENCE     4.6   \n",
              "335  Messenger – Text and Video Chat for Free        COMMUNICATION     4.0   \n",
              "336                        WhatsApp Messenger        COMMUNICATION     4.4   \n",
              "338              Google Chrome: Fast & Secure        COMMUNICATION     4.3   \n",
              "340                                     Gmail        COMMUNICATION     4.3   \n",
              "\n",
              "      Reviews   Size    Installs  Type  Price Content Rating  \\\n",
              "139   2914724   3100   100000000  Free      0           Teen   \n",
              "335  56642847  35000  1000000000  Free      0       Everyone   \n",
              "336  69119316  35000  1000000000  Free      0       Everyone   \n",
              "338   9642995  17000  1000000000  Free      0       Everyone   \n",
              "340   4604324  17000  1000000000  Free      0       Everyone   \n",
              "\n",
              "                Genres    Last Updated         Current Ver         Android Ver  \n",
              "139  Books & Reference  August 1, 2018  Varies with device  Varies with device  \n",
              "335      Communication  August 1, 2018  Varies with device  Varies with device  \n",
              "336      Communication  August 3, 2018  Varies with device  Varies with device  \n",
              "338      Communication  August 1, 2018  Varies with device  Varies with device  \n",
              "340      Communication  August 2, 2018  Varies with device  Varies with device  "
            ]
          },
          "execution_count": 73,
          "metadata": {},
          "output_type": "execute_result"
        }
      ],
      "source": [
        "df[df.Reviews>2000000].head()"
      ]
    },
    {
      "cell_type": "code",
      "execution_count": null,
      "metadata": {
        "id": "s8iwCgFkn3tC"
      },
      "outputs": [],
      "source": [
        "df=df[df.Reviews<=2000000].copy()"
      ]
    },
    {
      "cell_type": "code",
      "execution_count": null,
      "metadata": {
        "id": "cm4Za4xNn3tC",
        "outputId": "4b5742e0-0909-4381-cc08-f80d60c459de"
      },
      "outputs": [
        {
          "data": {
            "text/plain": [
              "(8885, 13)"
            ]
          },
          "execution_count": 75,
          "metadata": {},
          "output_type": "execute_result"
        }
      ],
      "source": [
        "df.shape"
      ]
    },
    {
      "cell_type": "code",
      "execution_count": null,
      "metadata": {
        "id": "apEcxertn3tC",
        "outputId": "5d209703-bfe2-4fc6-e4ae-bc5b36dad3ed"
      },
      "outputs": [
        {
          "data": {
            "text/plain": [
              "0.10         1000.0\n",
              "0.25        10000.0\n",
              "0.50       500000.0\n",
              "0.70      1000000.0\n",
              "0.90     10000000.0\n",
              "0.95     10000000.0\n",
              "0.99    100000000.0\n",
              "Name: Installs, dtype: float64"
            ]
          },
          "execution_count": 76,
          "metadata": {},
          "output_type": "execute_result"
        }
      ],
      "source": [
        "df.Installs.quantile([0.1,0.25,0.5,0.7,0.9,0.95,0.99])"
      ]
    },
    {
      "cell_type": "code",
      "execution_count": null,
      "metadata": {
        "id": "18wxx4tbn3tD",
        "outputId": "61e5e560-33d7-435f-85c4-dc85370ece88"
      },
      "outputs": [
        {
          "data": {
            "text/plain": [
              "20"
            ]
          },
          "execution_count": 77,
          "metadata": {},
          "output_type": "execute_result"
        }
      ],
      "source": [
        "len(df[df.Installs>100000000])"
      ]
    },
    {
      "cell_type": "code",
      "execution_count": null,
      "metadata": {
        "id": "JWjVu8xgn3tD",
        "outputId": "5c26edd6-1201-4726-dfcc-3517761fd18b"
      },
      "outputs": [
        {
          "data": {
            "text/html": [
              "<div>\n",
              "<style scoped>\n",
              "    .dataframe tbody tr th:only-of-type {\n",
              "        vertical-align: middle;\n",
              "    }\n",
              "\n",
              "    .dataframe tbody tr th {\n",
              "        vertical-align: top;\n",
              "    }\n",
              "\n",
              "    .dataframe thead th {\n",
              "        text-align: right;\n",
              "    }\n",
              "</style>\n",
              "<table border=\"1\" class=\"dataframe\">\n",
              "  <thead>\n",
              "    <tr style=\"text-align: right;\">\n",
              "      <th></th>\n",
              "      <th>App</th>\n",
              "      <th>Category</th>\n",
              "      <th>Rating</th>\n",
              "      <th>Reviews</th>\n",
              "      <th>Size</th>\n",
              "      <th>Installs</th>\n",
              "      <th>Type</th>\n",
              "      <th>Price</th>\n",
              "      <th>Content Rating</th>\n",
              "      <th>Genres</th>\n",
              "      <th>Last Updated</th>\n",
              "      <th>Current Ver</th>\n",
              "      <th>Android Ver</th>\n",
              "    </tr>\n",
              "  </thead>\n",
              "  <tbody>\n",
              "    <tr>\n",
              "      <th>152</th>\n",
              "      <td>Google Play Books</td>\n",
              "      <td>BOOKS_AND_REFERENCE</td>\n",
              "      <td>3.9</td>\n",
              "      <td>1433233</td>\n",
              "      <td>5000</td>\n",
              "      <td>1000000000</td>\n",
              "      <td>Free</td>\n",
              "      <td>0</td>\n",
              "      <td>Teen</td>\n",
              "      <td>Books &amp; Reference</td>\n",
              "      <td>August 3, 2018</td>\n",
              "      <td>Varies with device</td>\n",
              "      <td>Varies with device</td>\n",
              "    </tr>\n",
              "    <tr>\n",
              "      <th>3265</th>\n",
              "      <td>Gboard - the Google Keyboard</td>\n",
              "      <td>TOOLS</td>\n",
              "      <td>4.2</td>\n",
              "      <td>1859115</td>\n",
              "      <td>15000</td>\n",
              "      <td>500000000</td>\n",
              "      <td>Free</td>\n",
              "      <td>0</td>\n",
              "      <td>Everyone</td>\n",
              "      <td>Tools</td>\n",
              "      <td>July 31, 2018</td>\n",
              "      <td>Varies with device</td>\n",
              "      <td>Varies with device</td>\n",
              "    </tr>\n",
              "    <tr>\n",
              "      <th>3326</th>\n",
              "      <td>Gboard - the Google Keyboard</td>\n",
              "      <td>TOOLS</td>\n",
              "      <td>4.2</td>\n",
              "      <td>1859109</td>\n",
              "      <td>8900</td>\n",
              "      <td>500000000</td>\n",
              "      <td>Free</td>\n",
              "      <td>0</td>\n",
              "      <td>Everyone</td>\n",
              "      <td>Tools</td>\n",
              "      <td>July 31, 2018</td>\n",
              "      <td>Varies with device</td>\n",
              "      <td>Varies with device</td>\n",
              "    </tr>\n",
              "    <tr>\n",
              "      <th>3473</th>\n",
              "      <td>Dropbox</td>\n",
              "      <td>PRODUCTIVITY</td>\n",
              "      <td>4.4</td>\n",
              "      <td>1861310</td>\n",
              "      <td>61000</td>\n",
              "      <td>500000000</td>\n",
              "      <td>Free</td>\n",
              "      <td>0</td>\n",
              "      <td>Everyone</td>\n",
              "      <td>Productivity</td>\n",
              "      <td>August 1, 2018</td>\n",
              "      <td>Varies with device</td>\n",
              "      <td>Varies with device</td>\n",
              "    </tr>\n",
              "    <tr>\n",
              "      <th>3476</th>\n",
              "      <td>Google Calendar</td>\n",
              "      <td>PRODUCTIVITY</td>\n",
              "      <td>4.2</td>\n",
              "      <td>858208</td>\n",
              "      <td>1600</td>\n",
              "      <td>500000000</td>\n",
              "      <td>Free</td>\n",
              "      <td>0</td>\n",
              "      <td>Everyone</td>\n",
              "      <td>Productivity</td>\n",
              "      <td>August 6, 2018</td>\n",
              "      <td>Varies with device</td>\n",
              "      <td>Varies with device</td>\n",
              "    </tr>\n",
              "    <tr>\n",
              "      <th>3533</th>\n",
              "      <td>Google Calendar</td>\n",
              "      <td>PRODUCTIVITY</td>\n",
              "      <td>4.2</td>\n",
              "      <td>858227</td>\n",
              "      <td>37000</td>\n",
              "      <td>500000000</td>\n",
              "      <td>Free</td>\n",
              "      <td>0</td>\n",
              "      <td>Everyone</td>\n",
              "      <td>Productivity</td>\n",
              "      <td>August 6, 2018</td>\n",
              "      <td>Varies with device</td>\n",
              "      <td>Varies with device</td>\n",
              "    </tr>\n",
              "    <tr>\n",
              "      <th>3562</th>\n",
              "      <td>Google Calendar</td>\n",
              "      <td>PRODUCTIVITY</td>\n",
              "      <td>4.2</td>\n",
              "      <td>858230</td>\n",
              "      <td>15000</td>\n",
              "      <td>500000000</td>\n",
              "      <td>Free</td>\n",
              "      <td>0</td>\n",
              "      <td>Everyone</td>\n",
              "      <td>Productivity</td>\n",
              "      <td>August 6, 2018</td>\n",
              "      <td>Varies with device</td>\n",
              "      <td>Varies with device</td>\n",
              "    </tr>\n",
              "    <tr>\n",
              "      <th>3569</th>\n",
              "      <td>Dropbox</td>\n",
              "      <td>PRODUCTIVITY</td>\n",
              "      <td>4.4</td>\n",
              "      <td>1861309</td>\n",
              "      <td>61000</td>\n",
              "      <td>500000000</td>\n",
              "      <td>Free</td>\n",
              "      <td>0</td>\n",
              "      <td>Everyone</td>\n",
              "      <td>Productivity</td>\n",
              "      <td>August 1, 2018</td>\n",
              "      <td>Varies with device</td>\n",
              "      <td>Varies with device</td>\n",
              "    </tr>\n",
              "    <tr>\n",
              "      <th>3574</th>\n",
              "      <td>Cloud Print</td>\n",
              "      <td>PRODUCTIVITY</td>\n",
              "      <td>4.1</td>\n",
              "      <td>282460</td>\n",
              "      <td>3800</td>\n",
              "      <td>500000000</td>\n",
              "      <td>Free</td>\n",
              "      <td>0</td>\n",
              "      <td>Everyone</td>\n",
              "      <td>Productivity</td>\n",
              "      <td>May 23, 2018</td>\n",
              "      <td>Varies with device</td>\n",
              "      <td>Varies with device</td>\n",
              "    </tr>\n",
              "    <tr>\n",
              "      <th>3687</th>\n",
              "      <td>Google Play Movies &amp; TV</td>\n",
              "      <td>VIDEO_PLAYERS</td>\n",
              "      <td>3.7</td>\n",
              "      <td>906384</td>\n",
              "      <td>13000</td>\n",
              "      <td>1000000000</td>\n",
              "      <td>Free</td>\n",
              "      <td>0</td>\n",
              "      <td>Teen</td>\n",
              "      <td>Video Players &amp; Editors</td>\n",
              "      <td>August 6, 2018</td>\n",
              "      <td>Varies with device</td>\n",
              "      <td>Varies with device</td>\n",
              "    </tr>\n",
              "    <tr>\n",
              "      <th>3736</th>\n",
              "      <td>Google News</td>\n",
              "      <td>NEWS_AND_MAGAZINES</td>\n",
              "      <td>3.9</td>\n",
              "      <td>877635</td>\n",
              "      <td>13000</td>\n",
              "      <td>1000000000</td>\n",
              "      <td>Free</td>\n",
              "      <td>0</td>\n",
              "      <td>Teen</td>\n",
              "      <td>News &amp; Magazines</td>\n",
              "      <td>August 1, 2018</td>\n",
              "      <td>5.2.0</td>\n",
              "      <td>4.4 and up</td>\n",
              "    </tr>\n",
              "    <tr>\n",
              "      <th>3755</th>\n",
              "      <td>Flipboard: News For Our Time</td>\n",
              "      <td>NEWS_AND_MAGAZINES</td>\n",
              "      <td>4.4</td>\n",
              "      <td>1284017</td>\n",
              "      <td>8700</td>\n",
              "      <td>500000000</td>\n",
              "      <td>Free</td>\n",
              "      <td>0</td>\n",
              "      <td>Everyone 10+</td>\n",
              "      <td>News &amp; Magazines</td>\n",
              "      <td>August 3, 2018</td>\n",
              "      <td>Varies with device</td>\n",
              "      <td>Varies with device</td>\n",
              "    </tr>\n",
              "    <tr>\n",
              "      <th>3765</th>\n",
              "      <td>Google News</td>\n",
              "      <td>NEWS_AND_MAGAZINES</td>\n",
              "      <td>3.9</td>\n",
              "      <td>877635</td>\n",
              "      <td>13000</td>\n",
              "      <td>1000000000</td>\n",
              "      <td>Free</td>\n",
              "      <td>0</td>\n",
              "      <td>Teen</td>\n",
              "      <td>News &amp; Magazines</td>\n",
              "      <td>August 1, 2018</td>\n",
              "      <td>5.2.0</td>\n",
              "      <td>4.4 and up</td>\n",
              "    </tr>\n",
              "    <tr>\n",
              "      <th>3767</th>\n",
              "      <td>Flipboard: News For Our Time</td>\n",
              "      <td>NEWS_AND_MAGAZINES</td>\n",
              "      <td>4.4</td>\n",
              "      <td>1284017</td>\n",
              "      <td>13000</td>\n",
              "      <td>500000000</td>\n",
              "      <td>Free</td>\n",
              "      <td>0</td>\n",
              "      <td>Everyone 10+</td>\n",
              "      <td>News &amp; Magazines</td>\n",
              "      <td>August 3, 2018</td>\n",
              "      <td>Varies with device</td>\n",
              "      <td>Varies with device</td>\n",
              "    </tr>\n",
              "    <tr>\n",
              "      <th>3816</th>\n",
              "      <td>Google News</td>\n",
              "      <td>NEWS_AND_MAGAZINES</td>\n",
              "      <td>3.9</td>\n",
              "      <td>877643</td>\n",
              "      <td>13000</td>\n",
              "      <td>1000000000</td>\n",
              "      <td>Free</td>\n",
              "      <td>0</td>\n",
              "      <td>Teen</td>\n",
              "      <td>News &amp; Magazines</td>\n",
              "      <td>August 1, 2018</td>\n",
              "      <td>5.2.0</td>\n",
              "      <td>4.4 and up</td>\n",
              "    </tr>\n",
              "    <tr>\n",
              "      <th>3819</th>\n",
              "      <td>Flipboard: News For Our Time</td>\n",
              "      <td>NEWS_AND_MAGAZINES</td>\n",
              "      <td>4.4</td>\n",
              "      <td>1284018</td>\n",
              "      <td>13000</td>\n",
              "      <td>500000000</td>\n",
              "      <td>Free</td>\n",
              "      <td>0</td>\n",
              "      <td>Everyone 10+</td>\n",
              "      <td>News &amp; Magazines</td>\n",
              "      <td>August 3, 2018</td>\n",
              "      <td>Varies with device</td>\n",
              "      <td>Varies with device</td>\n",
              "    </tr>\n",
              "    <tr>\n",
              "      <th>4048</th>\n",
              "      <td>Dropbox</td>\n",
              "      <td>PRODUCTIVITY</td>\n",
              "      <td>4.4</td>\n",
              "      <td>1860844</td>\n",
              "      <td>61000</td>\n",
              "      <td>500000000</td>\n",
              "      <td>Free</td>\n",
              "      <td>0</td>\n",
              "      <td>Everyone</td>\n",
              "      <td>Productivity</td>\n",
              "      <td>August 1, 2018</td>\n",
              "      <td>Varies with device</td>\n",
              "      <td>Varies with device</td>\n",
              "    </tr>\n",
              "    <tr>\n",
              "      <th>4147</th>\n",
              "      <td>Gboard - the Google Keyboard</td>\n",
              "      <td>TOOLS</td>\n",
              "      <td>4.2</td>\n",
              "      <td>1855262</td>\n",
              "      <td>32000</td>\n",
              "      <td>500000000</td>\n",
              "      <td>Free</td>\n",
              "      <td>0</td>\n",
              "      <td>Everyone</td>\n",
              "      <td>Tools</td>\n",
              "      <td>July 31, 2018</td>\n",
              "      <td>Varies with device</td>\n",
              "      <td>Varies with device</td>\n",
              "    </tr>\n",
              "    <tr>\n",
              "      <th>5596</th>\n",
              "      <td>Samsung Health</td>\n",
              "      <td>HEALTH_AND_FITNESS</td>\n",
              "      <td>4.3</td>\n",
              "      <td>480208</td>\n",
              "      <td>70000</td>\n",
              "      <td>500000000</td>\n",
              "      <td>Free</td>\n",
              "      <td>0</td>\n",
              "      <td>Everyone</td>\n",
              "      <td>Health &amp; Fitness</td>\n",
              "      <td>July 31, 2018</td>\n",
              "      <td>5.17.2.009</td>\n",
              "      <td>5.0 and up</td>\n",
              "    </tr>\n",
              "    <tr>\n",
              "      <th>9844</th>\n",
              "      <td>Google News</td>\n",
              "      <td>NEWS_AND_MAGAZINES</td>\n",
              "      <td>3.9</td>\n",
              "      <td>878065</td>\n",
              "      <td>13000</td>\n",
              "      <td>1000000000</td>\n",
              "      <td>Free</td>\n",
              "      <td>0</td>\n",
              "      <td>Teen</td>\n",
              "      <td>News &amp; Magazines</td>\n",
              "      <td>August 1, 2018</td>\n",
              "      <td>5.2.0</td>\n",
              "      <td>4.4 and up</td>\n",
              "    </tr>\n",
              "  </tbody>\n",
              "</table>\n",
              "</div>"
            ],
            "text/plain": [
              "                               App             Category  Rating  Reviews  \\\n",
              "152              Google Play Books  BOOKS_AND_REFERENCE     3.9  1433233   \n",
              "3265  Gboard - the Google Keyboard                TOOLS     4.2  1859115   \n",
              "3326  Gboard - the Google Keyboard                TOOLS     4.2  1859109   \n",
              "3473                       Dropbox         PRODUCTIVITY     4.4  1861310   \n",
              "3476               Google Calendar         PRODUCTIVITY     4.2   858208   \n",
              "3533               Google Calendar         PRODUCTIVITY     4.2   858227   \n",
              "3562               Google Calendar         PRODUCTIVITY     4.2   858230   \n",
              "3569                       Dropbox         PRODUCTIVITY     4.4  1861309   \n",
              "3574                   Cloud Print         PRODUCTIVITY     4.1   282460   \n",
              "3687       Google Play Movies & TV        VIDEO_PLAYERS     3.7   906384   \n",
              "3736                   Google News   NEWS_AND_MAGAZINES     3.9   877635   \n",
              "3755  Flipboard: News For Our Time   NEWS_AND_MAGAZINES     4.4  1284017   \n",
              "3765                   Google News   NEWS_AND_MAGAZINES     3.9   877635   \n",
              "3767  Flipboard: News For Our Time   NEWS_AND_MAGAZINES     4.4  1284017   \n",
              "3816                   Google News   NEWS_AND_MAGAZINES     3.9   877643   \n",
              "3819  Flipboard: News For Our Time   NEWS_AND_MAGAZINES     4.4  1284018   \n",
              "4048                       Dropbox         PRODUCTIVITY     4.4  1860844   \n",
              "4147  Gboard - the Google Keyboard                TOOLS     4.2  1855262   \n",
              "5596                Samsung Health   HEALTH_AND_FITNESS     4.3   480208   \n",
              "9844                   Google News   NEWS_AND_MAGAZINES     3.9   878065   \n",
              "\n",
              "       Size    Installs  Type  Price Content Rating                   Genres  \\\n",
              "152    5000  1000000000  Free      0           Teen        Books & Reference   \n",
              "3265  15000   500000000  Free      0       Everyone                    Tools   \n",
              "3326   8900   500000000  Free      0       Everyone                    Tools   \n",
              "3473  61000   500000000  Free      0       Everyone             Productivity   \n",
              "3476   1600   500000000  Free      0       Everyone             Productivity   \n",
              "3533  37000   500000000  Free      0       Everyone             Productivity   \n",
              "3562  15000   500000000  Free      0       Everyone             Productivity   \n",
              "3569  61000   500000000  Free      0       Everyone             Productivity   \n",
              "3574   3800   500000000  Free      0       Everyone             Productivity   \n",
              "3687  13000  1000000000  Free      0           Teen  Video Players & Editors   \n",
              "3736  13000  1000000000  Free      0           Teen         News & Magazines   \n",
              "3755   8700   500000000  Free      0   Everyone 10+         News & Magazines   \n",
              "3765  13000  1000000000  Free      0           Teen         News & Magazines   \n",
              "3767  13000   500000000  Free      0   Everyone 10+         News & Magazines   \n",
              "3816  13000  1000000000  Free      0           Teen         News & Magazines   \n",
              "3819  13000   500000000  Free      0   Everyone 10+         News & Magazines   \n",
              "4048  61000   500000000  Free      0       Everyone             Productivity   \n",
              "4147  32000   500000000  Free      0       Everyone                    Tools   \n",
              "5596  70000   500000000  Free      0       Everyone         Health & Fitness   \n",
              "9844  13000  1000000000  Free      0           Teen         News & Magazines   \n",
              "\n",
              "        Last Updated         Current Ver         Android Ver  \n",
              "152   August 3, 2018  Varies with device  Varies with device  \n",
              "3265   July 31, 2018  Varies with device  Varies with device  \n",
              "3326   July 31, 2018  Varies with device  Varies with device  \n",
              "3473  August 1, 2018  Varies with device  Varies with device  \n",
              "3476  August 6, 2018  Varies with device  Varies with device  \n",
              "3533  August 6, 2018  Varies with device  Varies with device  \n",
              "3562  August 6, 2018  Varies with device  Varies with device  \n",
              "3569  August 1, 2018  Varies with device  Varies with device  \n",
              "3574    May 23, 2018  Varies with device  Varies with device  \n",
              "3687  August 6, 2018  Varies with device  Varies with device  \n",
              "3736  August 1, 2018               5.2.0          4.4 and up  \n",
              "3755  August 3, 2018  Varies with device  Varies with device  \n",
              "3765  August 1, 2018               5.2.0          4.4 and up  \n",
              "3767  August 3, 2018  Varies with device  Varies with device  \n",
              "3816  August 1, 2018               5.2.0          4.4 and up  \n",
              "3819  August 3, 2018  Varies with device  Varies with device  \n",
              "4048  August 1, 2018  Varies with device  Varies with device  \n",
              "4147   July 31, 2018  Varies with device  Varies with device  \n",
              "5596   July 31, 2018          5.17.2.009          5.0 and up  \n",
              "9844  August 1, 2018               5.2.0          4.4 and up  "
            ]
          },
          "execution_count": 78,
          "metadata": {},
          "output_type": "execute_result"
        }
      ],
      "source": [
        "df[df.Installs>100000000]"
      ]
    },
    {
      "cell_type": "code",
      "execution_count": null,
      "metadata": {
        "id": "vBwNcmEIn3tD"
      },
      "outputs": [],
      "source": [
        "df=df[df.Installs<=100000000].copy()"
      ]
    },
    {
      "cell_type": "code",
      "execution_count": null,
      "metadata": {
        "id": "JUVRf7Ryn3tD",
        "outputId": "b105dd32-6a52-4bdb-a7e5-e0b066ab94d9"
      },
      "outputs": [
        {
          "data": {
            "text/plain": [
              "(8865, 13)"
            ]
          },
          "execution_count": 80,
          "metadata": {},
          "output_type": "execute_result"
        }
      ],
      "source": [
        "df.shape"
      ]
    },
    {
      "cell_type": "code",
      "execution_count": null,
      "metadata": {
        "id": "GAmP0a-_n3tD",
        "outputId": "550ffb7c-5ad2-421d-d273-1f0aec71fec0"
      },
      "outputs": [
        {
          "data": {
            "text/plain": [
              "App                object\n",
              "Category           object\n",
              "Rating            float64\n",
              "Reviews             int32\n",
              "Size                int32\n",
              "Installs            int64\n",
              "Type               object\n",
              "Price               int64\n",
              "Content Rating     object\n",
              "Genres             object\n",
              "Last Updated       object\n",
              "Current Ver        object\n",
              "Android Ver        object\n",
              "dtype: object"
            ]
          },
          "execution_count": 89,
          "metadata": {},
          "output_type": "execute_result"
        }
      ],
      "source": [
        "df.dtypes"
      ]
    },
    {
      "cell_type": "code",
      "execution_count": null,
      "metadata": {
        "id": "NdeaTjQ5n3tD",
        "outputId": "c7bac1f0-233d-4b4b-9081-9587ef1e2b7d"
      },
      "outputs": [
        {
          "name": "stderr",
          "output_type": "stream",
          "text": [
            "/usr/local/lib/python3.7/site-packages/seaborn/_decorators.py:43: FutureWarning: Pass the following variables as keyword args: x, y. From version 0.12, the only valid positional argument will be `data`, and passing other arguments without an explicit keyword will result in an error or misinterpretation.\n",
            "  FutureWarning\n"
          ]
        },
        {
          "data": {
            "image/png": "[encoded data removed]",
            "text/plain": [
              "<Figure size 792x360 with 1 Axes>"
            ]
          },
          "metadata": {
            "needs_background": "light"
          },
          "output_type": "display_data"
        }
      ],
      "source": [
        "plt.figure(figsize=(11,5))\n",
        "sns.scatterplot(df.Price,df.Rating,hue=df.Rating)\n",
        "plt.show()"
      ]
    },
    {
      "cell_type": "code",
      "execution_count": null,
      "metadata": {
        "id": "-qwhsGf_n3tE"
      },
      "outputs": [],
      "source": [
        "# Observation : While there is no clear pattern, it appears that the more expensive apps receive higher ratings.\n",
        "# Although there aren't many expensive apps, the pattern is clear."
      ]
    },
    {
      "cell_type": "code",
      "execution_count": null,
      "metadata": {
        "id": "gHhxgxrUn3tE",
        "outputId": "d3744efe-ed46-4b62-b2b7-1333294e698c"
      },
      "outputs": [
        {
          "name": "stderr",
          "output_type": "stream",
          "text": [
            "/usr/local/lib/python3.7/site-packages/seaborn/_decorators.py:43: FutureWarning: Pass the following variables as keyword args: x, y. From version 0.12, the only valid positional argument will be `data`, and passing other arguments without an explicit keyword will result in an error or misinterpretation.\n",
            "  FutureWarning\n"
          ]
        },
        {
          "data": {
            "text/plain": [
              "<AxesSubplot:xlabel='Size', ylabel='Rating'>"
            ]
          },
          "execution_count": 92,
          "metadata": {},
          "output_type": "execute_result"
        },
        {
          "data": {
            "image/png": "[encoded data removed]",
            "text/plain": [
              "<Figure size 576x432 with 1 Axes>"
            ]
          },
          "metadata": {
            "needs_background": "light"
          },
          "output_type": "display_data"
        }
      ],
      "source": [
        "plt.figure(figsize=(8,6))\n",
        "sns.scatterplot(df.Size,df.Rating,hue=df.Rating)"
      ]
    },
    {
      "cell_type": "code",
      "execution_count": null,
      "metadata": {
        "id": "1Z2ciV0cn3tH"
      },
      "outputs": [],
      "source": [
        "# It's not a particularly clear pattern, but it appears that heavier apps are better rated."
      ]
    },
    {
      "cell_type": "code",
      "execution_count": null,
      "metadata": {
        "id": "61gMXhXmn3tH",
        "outputId": "b0daa6a2-eaad-4550-b7c1-01d2e8f71741"
      },
      "outputs": [
        {
          "name": "stderr",
          "output_type": "stream",
          "text": [
            "/usr/local/lib/python3.7/site-packages/seaborn/_decorators.py:43: FutureWarning: Pass the following variables as keyword args: x, y. From version 0.12, the only valid positional argument will be `data`, and passing other arguments without an explicit keyword will result in an error or misinterpretation.\n",
            "  FutureWarning\n"
          ]
        },
        {
          "data": {
            "text/plain": [
              "<AxesSubplot:xlabel='Reviews', ylabel='Rating'>"
            ]
          },
          "execution_count": 94,
          "metadata": {},
          "output_type": "execute_result"
        },
        {
          "data": {
            "image/png": "[encoded data removed]",
            "text/plain": [
              "<Figure size 576x360 with 1 Axes>"
            ]
          },
          "metadata": {
            "needs_background": "light"
          },
          "output_type": "display_data"
        }
      ],
      "source": [
        "plt.figure(figsize=(8,5))\n",
        "sns.scatterplot(df.Reviews,df.Rating,hue=df.Rating)"
      ]
    },
    {
      "cell_type": "code",
      "execution_count": null,
      "metadata": {
        "id": "iBjDoOHqn3tI"
      },
      "outputs": [],
      "source": [
        "# Observation : There is no apparent trend. There are fewer low-rated apps among the popular ones ,\n",
        "# and after a certain point, the rating is independent of popularity."
      ]
    },
    {
      "cell_type": "code",
      "execution_count": null,
      "metadata": {
        "id": "rwlJtxEDn3tI",
        "outputId": "d2e13b98-f547-4689-d119-2f30571e8e78"
      },
      "outputs": [
        {
          "name": "stderr",
          "output_type": "stream",
          "text": [
            "/usr/local/lib/python3.7/site-packages/seaborn/_decorators.py:43: FutureWarning: Pass the following variables as keyword args: x, y. From version 0.12, the only valid positional argument will be `data`, and passing other arguments without an explicit keyword will result in an error or misinterpretation.\n",
            "  FutureWarning\n"
          ]
        },
        {
          "data": {
            "text/plain": [
              "<AxesSubplot:xlabel='Content Rating', ylabel='Rating'>"
            ]
          },
          "execution_count": 95,
          "metadata": {},
          "output_type": "execute_result"
        },
        {
          "data": {
            "image/png": "[encoded data removed]",
            "text/plain": [
              "<Figure size 576x288 with 1 Axes>"
            ]
          },
          "metadata": {
            "needs_background": "light"
          },
          "output_type": "display_data"
        }
      ],
      "source": [
        "plt.figure(figsize=[8,4])\n",
        "sns.boxplot(df['Content Rating'], df.Rating)"
      ]
    },
    {
      "cell_type": "code",
      "execution_count": null,
      "metadata": {
        "id": "QgC9PwYsn3tI",
        "outputId": "172d814a-deed-46d5-9efe-9b81e9cf81d4"
      },
      "outputs": [
        {
          "name": "stderr",
          "output_type": "stream",
          "text": [
            "/usr/local/lib/python3.7/site-packages/seaborn/_decorators.py:43: FutureWarning: Pass the following variables as keyword args: x, y. From version 0.12, the only valid positional argument will be `data`, and passing other arguments without an explicit keyword will result in an error or misinterpretation.\n",
            "  FutureWarning\n"
          ]
        },
        {
          "data": {
            "text/plain": [
              "(array([ 0,  1,  2,  3,  4,  5,  6,  7,  8,  9, 10, 11, 12, 13, 14, 15, 16,\n",
              "        17, 18, 19, 20, 21, 22, 23, 24, 25, 26, 27, 28, 29, 30, 31, 32]),\n",
              " [Text(0, 0, 'ART_AND_DESIGN'),\n",
              "  Text(1, 0, 'AUTO_AND_VEHICLES'),\n",
              "  Text(2, 0, 'BEAUTY'),\n",
              "  Text(3, 0, 'BOOKS_AND_REFERENCE'),\n",
              "  Text(4, 0, 'BUSINESS'),\n",
              "  Text(5, 0, 'COMICS'),\n",
              "  Text(6, 0, 'COMMUNICATION'),\n",
              "  Text(7, 0, 'DATING'),\n",
              "  Text(8, 0, 'EDUCATION'),\n",
              "  Text(9, 0, 'ENTERTAINMENT'),\n",
              "  Text(10, 0, 'EVENTS'),\n",
              "  Text(11, 0, 'FINANCE'),\n",
              "  Text(12, 0, 'FOOD_AND_DRINK'),\n",
              "  Text(13, 0, 'HEALTH_AND_FITNESS'),\n",
              "  Text(14, 0, 'HOUSE_AND_HOME'),\n",
              "  Text(15, 0, 'LIBRARIES_AND_DEMO'),\n",
              "  Text(16, 0, 'LIFESTYLE'),\n",
              "  Text(17, 0, 'GAME'),\n",
              "  Text(18, 0, 'FAMILY'),\n",
              "  Text(19, 0, 'MEDICAL'),\n",
              "  Text(20, 0, 'SOCIAL'),\n",
              "  Text(21, 0, 'SHOPPING'),\n",
              "  Text(22, 0, 'PHOTOGRAPHY'),\n",
              "  Text(23, 0, 'SPORTS'),\n",
              "  Text(24, 0, 'TRAVEL_AND_LOCAL'),\n",
              "  Text(25, 0, 'TOOLS'),\n",
              "  Text(26, 0, 'PERSONALIZATION'),\n",
              "  Text(27, 0, 'PRODUCTIVITY'),\n",
              "  Text(28, 0, 'PARENTING'),\n",
              "  Text(29, 0, 'WEATHER'),\n",
              "  Text(30, 0, 'VIDEO_PLAYERS'),\n",
              "  Text(31, 0, 'NEWS_AND_MAGAZINES'),\n",
              "  Text(32, 0, 'MAPS_AND_NAVIGATION')])"
            ]
          },
          "execution_count": 96,
          "metadata": {},
          "output_type": "execute_result"
        },
        {
          "data": {
            "image/png": "[encoded data removed]",
            "text/plain": [
              "<Figure size 1080x360 with 1 Axes>"
            ]
          },
          "metadata": {
            "needs_background": "light"
          },
          "output_type": "display_data"
        }
      ],
      "source": [
        "plt.figure(figsize=[15,5])\n",
        "g=sns.boxplot(df.Category, df.Rating)\n",
        "plt.xticks(rotation=90)\n"
      ]
    },
    {
      "cell_type": "code",
      "execution_count": null,
      "metadata": {
        "id": "Scl_9ZAFn3tI"
      },
      "outputs": [],
      "source": [
        "inp1=df.copy()"
      ]
    },
    {
      "cell_type": "code",
      "execution_count": null,
      "metadata": {
        "id": "C9tva8r_n3tI",
        "outputId": "0f4ccd8c-de02-4a09-ab47-e99f5fcb5c84"
      },
      "outputs": [
        {
          "data": {
            "text/plain": [
              "count    8.865000e+03\n",
              "mean     4.815078e+06\n",
              "std      1.415604e+07\n",
              "min      5.000000e+00\n",
              "25%      1.000000e+04\n",
              "50%      5.000000e+05\n",
              "75%      5.000000e+06\n",
              "max      1.000000e+08\n",
              "Name: Installs, dtype: float64"
            ]
          },
          "execution_count": 99,
          "metadata": {},
          "output_type": "execute_result"
        }
      ],
      "source": [
        "inp1.Installs.describe()"
      ]
    },
    {
      "cell_type": "code",
      "execution_count": null,
      "metadata": {
        "id": "IVetTXr-n3tI"
      },
      "outputs": [],
      "source": [
        "inp1.Installs = inp1.Installs.apply(np.log1p)"
      ]
    },
    {
      "cell_type": "code",
      "execution_count": null,
      "metadata": {
        "id": "Nhxk9ZzGn3tI",
        "outputId": "3f36b398-cf4d-4133-caf8-5d524eea1485"
      },
      "outputs": [
        {
          "data": {
            "text/plain": [
              "count    8.865000e+03\n",
              "mean     1.024220e+05\n",
              "std      2.615093e+05\n",
              "min      1.000000e+00\n",
              "25%      1.590000e+02\n",
              "50%      4.251000e+03\n",
              "75%      5.614500e+04\n",
              "max      1.986068e+06\n",
              "Name: Reviews, dtype: float64"
            ]
          },
          "execution_count": 101,
          "metadata": {},
          "output_type": "execute_result"
        }
      ],
      "source": [
        "inp1.Reviews.describe()"
      ]
    },
    {
      "cell_type": "code",
      "execution_count": null,
      "metadata": {
        "id": "LXqSmsjJn3tJ"
      },
      "outputs": [],
      "source": [
        "inp1.Reviews = inp1.Reviews.apply(np.log1p)"
      ]
    },
    {
      "cell_type": "code",
      "execution_count": null,
      "metadata": {
        "id": "uP6LTGArn3tJ",
        "outputId": "5b522147-4361-421c-db35-cc1920d0015a"
      },
      "outputs": [
        {
          "data": {
            "text/plain": [
              "App                object\n",
              "Category           object\n",
              "Rating            float64\n",
              "Reviews           float64\n",
              "Size                int32\n",
              "Installs          float64\n",
              "Type               object\n",
              "Price               int64\n",
              "Content Rating     object\n",
              "Genres             object\n",
              "Last Updated       object\n",
              "Current Ver        object\n",
              "Android Ver        object\n",
              "dtype: object"
            ]
          },
          "execution_count": 103,
          "metadata": {},
          "output_type": "execute_result"
        }
      ],
      "source": [
        "inp1.dtypes"
      ]
    },
    {
      "cell_type": "code",
      "execution_count": null,
      "metadata": {
        "id": "1Toh8mDQn3tJ"
      },
      "outputs": [],
      "source": [
        "inp1.drop([\"App\",\"Last Updated\",\"Current Ver\",\"Android Ver\"],axis=1, inplace=True)"
      ]
    },
    {
      "cell_type": "code",
      "execution_count": null,
      "metadata": {
        "id": "fqzfb95An3tJ",
        "outputId": "06efe64c-cd01-4efc-87aa-b604ac93d65c"
      },
      "outputs": [
        {
          "data": {
            "text/plain": [
              "(8865, 9)"
            ]
          },
          "execution_count": 105,
          "metadata": {},
          "output_type": "execute_result"
        }
      ],
      "source": [
        "inp1.shape"
      ]
    },
    {
      "cell_type": "code",
      "execution_count": null,
      "metadata": {
        "id": "BJFGqZN2n3tJ"
      },
      "outputs": [],
      "source": [
        "inp2=pd.get_dummies(inp1, drop_first=True)"
      ]
    },
    {
      "cell_type": "code",
      "execution_count": null,
      "metadata": {
        "id": "Gs4NmoKOn3tJ",
        "outputId": "3355e2ae-782f-4907-8637-2d5defcee198"
      },
      "outputs": [
        {
          "data": {
            "text/plain": [
              "Index(['Rating', 'Reviews', 'Size', 'Installs', 'Price',\n",
              "       'Category_AUTO_AND_VEHICLES', 'Category_BEAUTY',\n",
              "       'Category_BOOKS_AND_REFERENCE', 'Category_BUSINESS', 'Category_COMICS',\n",
              "       ...\n",
              "       'Genres_Tools', 'Genres_Tools;Education', 'Genres_Travel & Local',\n",
              "       'Genres_Travel & Local;Action & Adventure', 'Genres_Trivia',\n",
              "       'Genres_Video Players & Editors',\n",
              "       'Genres_Video Players & Editors;Creativity',\n",
              "       'Genres_Video Players & Editors;Music & Video', 'Genres_Weather',\n",
              "       'Genres_Word'],\n",
              "      dtype='object', length=157)"
            ]
          },
          "execution_count": 107,
          "metadata": {},
          "output_type": "execute_result"
        }
      ],
      "source": [
        "inp2.columns"
      ]
    },
    {
      "cell_type": "code",
      "execution_count": null,
      "metadata": {
        "id": "DaTmmfIGn3tJ"
      },
      "outputs": [],
      "source": [
        "from sklearn.model_selection import train_test_split"
      ]
    },
    {
      "cell_type": "code",
      "execution_count": null,
      "metadata": {
        "id": "4RwshHzqn3tK"
      },
      "outputs": [],
      "source": [
        "df_train, df_test = train_test_split(inp2, train_size = 0.7, random_state = 100)\n"
      ]
    },
    {
      "cell_type": "code",
      "execution_count": null,
      "metadata": {
        "id": "5LMo-jjXn3tK",
        "outputId": "483ca51d-a194-409d-d298-e1bbdea5131f"
      },
      "outputs": [
        {
          "data": {
            "text/plain": [
              "((6205, 157), (2660, 157))"
            ]
          },
          "execution_count": 110,
          "metadata": {},
          "output_type": "execute_result"
        }
      ],
      "source": [
        "df_train.shape, df_test.shape\n"
      ]
    },
    {
      "cell_type": "code",
      "execution_count": null,
      "metadata": {
        "id": "EqnaOq9un3tK"
      },
      "outputs": [],
      "source": [
        "y_train = df_train.pop(\"Rating\")\n",
        "X_train = df_train"
      ]
    },
    {
      "cell_type": "code",
      "execution_count": null,
      "metadata": {
        "id": "5RTH217pn3tK"
      },
      "outputs": [],
      "source": [
        "y_test = df_test.pop(\"Rating\")\n",
        "X_test = df_test"
      ]
    },
    {
      "cell_type": "code",
      "execution_count": null,
      "metadata": {
        "id": "TIZ_71Y_n3tK"
      },
      "outputs": [],
      "source": [
        "from sklearn.linear_model import LinearRegression"
      ]
    },
    {
      "cell_type": "code",
      "execution_count": null,
      "metadata": {
        "id": "e73K6Oppn3tK"
      },
      "outputs": [],
      "source": [
        "lr = LinearRegression()"
      ]
    },
    {
      "cell_type": "code",
      "execution_count": null,
      "metadata": {
        "id": "9NqDGM0en3tK",
        "outputId": "96d5c018-71b0-4408-c7ba-19c7e855485b"
      },
      "outputs": [
        {
          "data": {
            "text/plain": [
              "LinearRegression()"
            ]
          },
          "execution_count": 116,
          "metadata": {},
          "output_type": "execute_result"
        }
      ],
      "source": [
        "lr.fit(X_train, y_train)\n"
      ]
    },
    {
      "cell_type": "code",
      "execution_count": null,
      "metadata": {
        "id": "Ax5yUNSen3tL",
        "outputId": "9cdd1841-85de-4d11-b243-932829a2e9bd"
      },
      "outputs": [
        {
          "data": {
            "text/plain": [
              "0.16333261407888644"
            ]
          },
          "execution_count": 117,
          "metadata": {},
          "output_type": "execute_result"
        }
      ],
      "source": [
        "from sklearn.metrics import r2_score\n",
        "\n",
        "y_train_pred= lr.predict(X_train)\n",
        "\n",
        "r2_score(y_train, y_train_pred)"
      ]
    },
    {
      "cell_type": "code",
      "execution_count": null,
      "metadata": {
        "id": "Q1y1GjM-n3tL",
        "outputId": "419b3c4e-6b4c-47c0-e79a-2a72ba35733f"
      },
      "outputs": [
        {
          "data": {
            "text/plain": [
              "0.13985861358365193"
            ]
          },
          "execution_count": 118,
          "metadata": {},
          "output_type": "execute_result"
        }
      ],
      "source": [
        "y_test_pred= lr.predict(X_test)\n",
        "\n",
        "r2_score(y_test, y_test_pred)"
      ]
    },
    {
      "cell_type": "code",
      "execution_count": null,
      "metadata": {
        "id": "_tC7wdV4n3tL",
        "outputId": "3cbfc6f4-5e87-454c-ff5a-fd0429818b7e"
      },
      "outputs": [
        {
          "data": {
            "text/html": [
              "<div>\n",
              "<style scoped>\n",
              "    .dataframe tbody tr th:only-of-type {\n",
              "        vertical-align: middle;\n",
              "    }\n",
              "\n",
              "    .dataframe tbody tr th {\n",
              "        vertical-align: top;\n",
              "    }\n",
              "\n",
              "    .dataframe thead th {\n",
              "        text-align: right;\n",
              "    }\n",
              "</style>\n",
              "<table border=\"1\" class=\"dataframe\">\n",
              "  <thead>\n",
              "    <tr style=\"text-align: right;\">\n",
              "      <th></th>\n",
              "      <th>Actual</th>\n",
              "      <th>Predicted</th>\n",
              "    </tr>\n",
              "  </thead>\n",
              "  <tbody>\n",
              "    <tr>\n",
              "      <th>0</th>\n",
              "      <td>3.8</td>\n",
              "      <td>3.962464</td>\n",
              "    </tr>\n",
              "    <tr>\n",
              "      <th>1</th>\n",
              "      <td>2.0</td>\n",
              "      <td>4.108801</td>\n",
              "    </tr>\n",
              "    <tr>\n",
              "      <th>2</th>\n",
              "      <td>4.4</td>\n",
              "      <td>4.482961</td>\n",
              "    </tr>\n",
              "    <tr>\n",
              "      <th>3</th>\n",
              "      <td>4.2</td>\n",
              "      <td>4.259507</td>\n",
              "    </tr>\n",
              "    <tr>\n",
              "      <th>4</th>\n",
              "      <td>4.6</td>\n",
              "      <td>4.315836</td>\n",
              "    </tr>\n",
              "    <tr>\n",
              "      <th>5</th>\n",
              "      <td>4.2</td>\n",
              "      <td>3.989839</td>\n",
              "    </tr>\n",
              "    <tr>\n",
              "      <th>6</th>\n",
              "      <td>4.3</td>\n",
              "      <td>4.027079</td>\n",
              "    </tr>\n",
              "    <tr>\n",
              "      <th>7</th>\n",
              "      <td>3.9</td>\n",
              "      <td>4.145043</td>\n",
              "    </tr>\n",
              "    <tr>\n",
              "      <th>8</th>\n",
              "      <td>3.5</td>\n",
              "      <td>4.013341</td>\n",
              "    </tr>\n",
              "    <tr>\n",
              "      <th>9</th>\n",
              "      <td>4.6</td>\n",
              "      <td>4.257708</td>\n",
              "    </tr>\n",
              "  </tbody>\n",
              "</table>\n",
              "</div>"
            ],
            "text/plain": [
              "   Actual  Predicted\n",
              "0     3.8   3.962464\n",
              "1     2.0   4.108801\n",
              "2     4.4   4.482961\n",
              "3     4.2   4.259507\n",
              "4     4.6   4.315836\n",
              "5     4.2   3.989839\n",
              "6     4.3   4.027079\n",
              "7     3.9   4.145043\n",
              "8     3.5   4.013341\n",
              "9     4.6   4.257708"
            ]
          },
          "execution_count": 119,
          "metadata": {},
          "output_type": "execute_result"
        }
      ],
      "source": [
        "Model=lr.fit(X_train, y_train)\n",
        "predict=lr.predict(X_test)\n",
        "\n",
        "y_test=np.array(y_test)\n",
        "predict=np.array(predict)\n",
        "a = pd.DataFrame({'Actual':y_test.flatten(),'Predicted':predict.flatten()});\n",
        "a.head(10)"
      ]
    },
    {
      "cell_type": "code",
      "execution_count": null,
      "metadata": {
        "id": "in3WQGlDn3tL",
        "outputId": "975300fe-3309-4a5f-a0f3-81b6a6eac78e"
      },
      "outputs": [
        {
          "data": {
            "text/plain": [
              "<AxesSubplot:>"
            ]
          },
          "execution_count": 122,
          "metadata": {},
          "output_type": "execute_result"
        },
        {
          "data": {
            "image/png": "[encoded data removed]",
            "text/plain": [
              "<Figure size 576x360 with 1 Axes>"
            ]
          },
          "metadata": {
            "needs_background": "light"
          },
          "output_type": "display_data"
        }
      ],
      "source": [
        "fig=a.head(25)\n",
        "fig.plot(kind='bar',figsize=(8,5))"
      ]
    },
    {
      "cell_type": "code",
      "execution_count": null,
      "metadata": {
        "id": "5v_XM1JPn3tL",
        "outputId": "be6793f9-430c-488f-cfb8-78cd44394a0a"
      },
      "outputs": [
        {
          "name": "stderr",
          "output_type": "stream",
          "text": [
            "/usr/local/lib/python3.7/site-packages/statsmodels/base/model.py:1362: RuntimeWarning: invalid value encountered in true_divide\n",
            "  return self.params / self.bse\n"
          ]
        },
        {
          "data": {
            "text/html": [
              "<table class=\"simpletable\">\n",
              "<caption>OLS Regression Results</caption>\n",
              "<tr>\n",
              "  <th>Dep. Variable:</th>         <td>Rating</td>      <th>  R-squared (uncentered):</th>      <td>   0.987</td>\n",
              "</tr>\n",
              "<tr>\n",
              "  <th>Model:</th>                   <td>OLS</td>       <th>  Adj. R-squared (uncentered):</th> <td>   0.987</td>\n",
              "</tr>\n",
              "<tr>\n",
              "  <th>Method:</th>             <td>Least Squares</td>  <th>  F-statistic:       </th>          <td>   3758.</td>\n",
              "</tr>\n",
              "<tr>\n",
              "  <th>Date:</th>             <td>Tue, 30 May 2023</td> <th>  Prob (F-statistic):</th>           <td>  0.00</td> \n",
              "</tr>\n",
              "<tr>\n",
              "  <th>Time:</th>                 <td>13:42:05</td>     <th>  Log-Likelihood:    </th>          <td> -4256.6</td>\n",
              "</tr>\n",
              "<tr>\n",
              "  <th>No. Observations:</th>      <td>  6205</td>      <th>  AIC:               </th>          <td>   8759.</td>\n",
              "</tr>\n",
              "<tr>\n",
              "  <th>Df Residuals:</th>          <td>  6082</td>      <th>  BIC:               </th>          <td>   9587.</td>\n",
              "</tr>\n",
              "<tr>\n",
              "  <th>Df Model:</th>              <td>   123</td>      <th>                     </th>              <td> </td>   \n",
              "</tr>\n",
              "<tr>\n",
              "  <th>Covariance Type:</th>      <td>nonrobust</td>    <th>                     </th>              <td> </td>   \n",
              "</tr>\n",
              "</table>\n",
              "<table class=\"simpletable\">\n",
              "<tr>\n",
              "                        <td></td>                          <th>coef</th>     <th>std err</th>      <th>t</th>      <th>P>|t|</th>  <th>[0.025</th>    <th>0.975]</th>  \n",
              "</tr>\n",
              "<tr>\n",
              "  <th>Reviews</th>                                      <td>    0.1738</td> <td>    0.006</td> <td>   27.610</td> <td> 0.000</td> <td>    0.161</td> <td>    0.186</td>\n",
              "</tr>\n",
              "<tr>\n",
              "  <th>Size</th>                                         <td>-1.331e-07</td> <td> 3.27e-07</td> <td>   -0.407</td> <td> 0.684</td> <td>-7.74e-07</td> <td> 5.08e-07</td>\n",
              "</tr>\n",
              "<tr>\n",
              "  <th>Installs</th>                                     <td>   -0.1482</td> <td>    0.006</td> <td>  -23.671</td> <td> 0.000</td> <td>   -0.160</td> <td>   -0.136</td>\n",
              "</tr>\n",
              "<tr>\n",
              "  <th>Price</th>                                        <td>    0.0002</td> <td>    0.003</td> <td>    0.059</td> <td> 0.953</td> <td>   -0.006</td> <td>    0.006</td>\n",
              "</tr>\n",
              "<tr>\n",
              "  <th>Category_AUTO_AND_VEHICLES</th>                   <td>    1.8278</td> <td>    0.132</td> <td>   13.867</td> <td> 0.000</td> <td>    1.569</td> <td>    2.086</td>\n",
              "</tr>\n",
              "<tr>\n",
              "  <th>Category_BEAUTY</th>                              <td>    1.9330</td> <td>    0.135</td> <td>   14.314</td> <td> 0.000</td> <td>    1.668</td> <td>    2.198</td>\n",
              "</tr>\n",
              "<tr>\n",
              "  <th>Category_BOOKS_AND_REFERENCE</th>                 <td>    1.8831</td> <td>    0.129</td> <td>   14.569</td> <td> 0.000</td> <td>    1.630</td> <td>    2.137</td>\n",
              "</tr>\n",
              "<tr>\n",
              "  <th>Category_BUSINESS</th>                            <td>    1.7943</td> <td>    0.128</td> <td>   13.967</td> <td> 0.000</td> <td>    1.542</td> <td>    2.046</td>\n",
              "</tr>\n",
              "<tr>\n",
              "  <th>Category_COMICS</th>                              <td>    2.6161</td> <td>    0.233</td> <td>   11.238</td> <td> 0.000</td> <td>    2.160</td> <td>    3.073</td>\n",
              "</tr>\n",
              "<tr>\n",
              "  <th>Category_COMMUNICATION</th>                       <td>    1.7695</td> <td>    0.129</td> <td>   13.728</td> <td> 0.000</td> <td>    1.517</td> <td>    2.022</td>\n",
              "</tr>\n",
              "<tr>\n",
              "  <th>Category_DATING</th>                              <td>    1.7175</td> <td>    0.130</td> <td>   13.227</td> <td> 0.000</td> <td>    1.463</td> <td>    1.972</td>\n",
              "</tr>\n",
              "<tr>\n",
              "  <th>Category_EDUCATION</th>                           <td>    3.3217</td> <td>    0.268</td> <td>   12.409</td> <td> 0.000</td> <td>    2.797</td> <td>    3.846</td>\n",
              "</tr>\n",
              "<tr>\n",
              "  <th>Category_ENTERTAINMENT</th>                       <td>    3.2252</td> <td>    0.268</td> <td>   12.046</td> <td> 0.000</td> <td>    2.700</td> <td>    3.750</td>\n",
              "</tr>\n",
              "<tr>\n",
              "  <th>Category_EVENTS</th>                              <td>    1.9661</td> <td>    0.134</td> <td>   14.721</td> <td> 0.000</td> <td>    1.704</td> <td>    2.228</td>\n",
              "</tr>\n",
              "<tr>\n",
              "  <th>Category_FAMILY</th>                              <td>    3.3510</td> <td>    0.261</td> <td>   12.863</td> <td> 0.000</td> <td>    2.840</td> <td>    3.862</td>\n",
              "</tr>\n",
              "<tr>\n",
              "  <th>Category_FINANCE</th>                             <td>    1.7856</td> <td>    0.129</td> <td>   13.895</td> <td> 0.000</td> <td>    1.534</td> <td>    2.038</td>\n",
              "</tr>\n",
              "<tr>\n",
              "  <th>Category_FOOD_AND_DRINK</th>                      <td>    1.7849</td> <td>    0.130</td> <td>   13.687</td> <td> 0.000</td> <td>    1.529</td> <td>    2.041</td>\n",
              "</tr>\n",
              "<tr>\n",
              "  <th>Category_GAME</th>                                <td>    3.5623</td> <td>    0.256</td> <td>   13.891</td> <td> 0.000</td> <td>    3.060</td> <td>    4.065</td>\n",
              "</tr>\n",
              "<tr>\n",
              "  <th>Category_HEALTH_AND_FITNESS</th>                  <td>    1.8192</td> <td>    0.129</td> <td>   14.140</td> <td> 0.000</td> <td>    1.567</td> <td>    2.071</td>\n",
              "</tr>\n",
              "<tr>\n",
              "  <th>Category_HOUSE_AND_HOME</th>                      <td>    1.8263</td> <td>    0.132</td> <td>   13.873</td> <td> 0.000</td> <td>    1.568</td> <td>    2.084</td>\n",
              "</tr>\n",
              "<tr>\n",
              "  <th>Category_LIBRARIES_AND_DEMO</th>                  <td>    1.8475</td> <td>    0.133</td> <td>   13.937</td> <td> 0.000</td> <td>    1.588</td> <td>    2.107</td>\n",
              "</tr>\n",
              "<tr>\n",
              "  <th>Category_LIFESTYLE</th>                           <td>    1.7805</td> <td>    0.128</td> <td>   13.861</td> <td> 0.000</td> <td>    1.529</td> <td>    2.032</td>\n",
              "</tr>\n",
              "<tr>\n",
              "  <th>Category_MAPS_AND_NAVIGATION</th>                 <td>    1.7466</td> <td>    0.130</td> <td>   13.406</td> <td> 0.000</td> <td>    1.491</td> <td>    2.002</td>\n",
              "</tr>\n",
              "<tr>\n",
              "  <th>Category_MEDICAL</th>                             <td>    1.8362</td> <td>    0.128</td> <td>   14.302</td> <td> 0.000</td> <td>    1.585</td> <td>    2.088</td>\n",
              "</tr>\n",
              "<tr>\n",
              "  <th>Category_NEWS_AND_MAGAZINES</th>                  <td>    1.7746</td> <td>    0.129</td> <td>   13.769</td> <td> 0.000</td> <td>    1.522</td> <td>    2.027</td>\n",
              "</tr>\n",
              "<tr>\n",
              "  <th>Category_PARENTING</th>                           <td>    2.8340</td> <td>    0.212</td> <td>   13.398</td> <td> 0.000</td> <td>    2.419</td> <td>    3.249</td>\n",
              "</tr>\n",
              "<tr>\n",
              "  <th>Category_PERSONALIZATION</th>                     <td>    1.8723</td> <td>    0.129</td> <td>   14.563</td> <td> 0.000</td> <td>    1.620</td> <td>    2.124</td>\n",
              "</tr>\n",
              "<tr>\n",
              "  <th>Category_PHOTOGRAPHY</th>                         <td>    1.7898</td> <td>    0.129</td> <td>   13.896</td> <td> 0.000</td> <td>    1.537</td> <td>    2.042</td>\n",
              "</tr>\n",
              "<tr>\n",
              "  <th>Category_PRODUCTIVITY</th>                        <td>    1.8130</td> <td>    0.129</td> <td>   14.099</td> <td> 0.000</td> <td>    1.561</td> <td>    2.065</td>\n",
              "</tr>\n",
              "<tr>\n",
              "  <th>Category_SHOPPING</th>                            <td>    1.8176</td> <td>    0.129</td> <td>   14.087</td> <td> 0.000</td> <td>    1.565</td> <td>    2.071</td>\n",
              "</tr>\n",
              "<tr>\n",
              "  <th>Category_SOCIAL</th>                              <td>    1.8042</td> <td>    0.129</td> <td>   14.008</td> <td> 0.000</td> <td>    1.552</td> <td>    2.057</td>\n",
              "</tr>\n",
              "<tr>\n",
              "  <th>Category_SPORTS</th>                              <td>    3.5325</td> <td>    0.429</td> <td>    8.234</td> <td> 0.000</td> <td>    2.691</td> <td>    4.374</td>\n",
              "</tr>\n",
              "<tr>\n",
              "  <th>Category_TOOLS</th>                               <td>    2.4014</td> <td>    0.235</td> <td>   10.222</td> <td> 0.000</td> <td>    1.941</td> <td>    2.862</td>\n",
              "</tr>\n",
              "<tr>\n",
              "  <th>Category_TRAVEL_AND_LOCAL</th>                    <td>    2.3977</td> <td>    0.235</td> <td>   10.194</td> <td> 0.000</td> <td>    1.937</td> <td>    2.859</td>\n",
              "</tr>\n",
              "<tr>\n",
              "  <th>Category_VIDEO_PLAYERS</th>                       <td>    3.3177</td> <td>    0.650</td> <td>    5.108</td> <td> 0.000</td> <td>    2.044</td> <td>    4.591</td>\n",
              "</tr>\n",
              "<tr>\n",
              "  <th>Category_WEATHER</th>                             <td>    1.8294</td> <td>    0.132</td> <td>   13.824</td> <td> 0.000</td> <td>    1.570</td> <td>    2.089</td>\n",
              "</tr>\n",
              "<tr>\n",
              "  <th>Type_Paid</th>                                    <td>   -0.0832</td> <td>    0.031</td> <td>   -2.719</td> <td> 0.007</td> <td>   -0.143</td> <td>   -0.023</td>\n",
              "</tr>\n",
              "<tr>\n",
              "  <th>Content Rating_Everyone</th>                      <td>    0.9742</td> <td>    0.254</td> <td>    3.842</td> <td> 0.000</td> <td>    0.477</td> <td>    1.471</td>\n",
              "</tr>\n",
              "<tr>\n",
              "  <th>Content Rating_Everyone 10+</th>                  <td>    0.9610</td> <td>    0.255</td> <td>    3.764</td> <td> 0.000</td> <td>    0.460</td> <td>    1.462</td>\n",
              "</tr>\n",
              "<tr>\n",
              "  <th>Content Rating_Mature 17+</th>                    <td>    0.9194</td> <td>    0.256</td> <td>    3.598</td> <td> 0.000</td> <td>    0.418</td> <td>    1.420</td>\n",
              "</tr>\n",
              "<tr>\n",
              "  <th>Content Rating_Teen</th>                          <td>    0.9624</td> <td>    0.254</td> <td>    3.790</td> <td> 0.000</td> <td>    0.465</td> <td>    1.460</td>\n",
              "</tr>\n",
              "<tr>\n",
              "  <th>Content Rating_Unrated</th>                       <td>    0.9706</td> <td>    0.548</td> <td>    1.771</td> <td> 0.077</td> <td>   -0.104</td> <td>    2.045</td>\n",
              "</tr>\n",
              "<tr>\n",
              "  <th>Genres_Action;Action & Adventure</th>             <td>    0.2836</td> <td>    0.140</td> <td>    2.020</td> <td> 0.043</td> <td>    0.008</td> <td>    0.559</td>\n",
              "</tr>\n",
              "<tr>\n",
              "  <th>Genres_Adventure</th>                             <td>   -0.0078</td> <td>    0.077</td> <td>   -0.102</td> <td> 0.919</td> <td>   -0.158</td> <td>    0.143</td>\n",
              "</tr>\n",
              "<tr>\n",
              "  <th>Genres_Adventure;Action & Adventure</th>          <td>    0.1765</td> <td>    0.291</td> <td>    0.608</td> <td> 0.543</td> <td>   -0.393</td> <td>    0.746</td>\n",
              "</tr>\n",
              "<tr>\n",
              "  <th>Genres_Adventure;Brain Games</th>                 <td> 2.422e-11</td> <td> 3.01e-11</td> <td>    0.804</td> <td> 0.422</td> <td>-3.49e-11</td> <td> 8.33e-11</td>\n",
              "</tr>\n",
              "<tr>\n",
              "  <th>Genres_Adventure;Education</th>                   <td>   -0.0090</td> <td>    0.491</td> <td>   -0.018</td> <td> 0.985</td> <td>   -0.973</td> <td>    0.955</td>\n",
              "</tr>\n",
              "<tr>\n",
              "  <th>Genres_Arcade</th>                                <td>    0.0466</td> <td>    0.056</td> <td>    0.836</td> <td> 0.403</td> <td>   -0.063</td> <td>    0.156</td>\n",
              "</tr>\n",
              "<tr>\n",
              "  <th>Genres_Arcade;Action & Adventure</th>             <td>    0.3087</td> <td>    0.178</td> <td>    1.734</td> <td> 0.083</td> <td>   -0.040</td> <td>    0.658</td>\n",
              "</tr>\n",
              "<tr>\n",
              "  <th>Genres_Arcade;Pretend Play</th>                   <td>    0.4841</td> <td>    0.491</td> <td>    0.985</td> <td> 0.325</td> <td>   -0.479</td> <td>    1.448</td>\n",
              "</tr>\n",
              "<tr>\n",
              "  <th>Genres_Art & Design</th>                          <td>    3.8781</td> <td>    0.266</td> <td>   14.554</td> <td> 0.000</td> <td>    3.356</td> <td>    4.400</td>\n",
              "</tr>\n",
              "<tr>\n",
              "  <th>Genres_Art & Design;Creativity</th>               <td>    3.2673</td> <td>    0.299</td> <td>   10.924</td> <td> 0.000</td> <td>    2.681</td> <td>    3.854</td>\n",
              "</tr>\n",
              "<tr>\n",
              "  <th>Genres_Art & Design;Pretend Play</th>             <td>    3.6776</td> <td>    0.549</td> <td>    6.700</td> <td> 0.000</td> <td>    2.602</td> <td>    4.754</td>\n",
              "</tr>\n",
              "<tr>\n",
              "  <th>Genres_Auto & Vehicles</th>                       <td>    1.8278</td> <td>    0.132</td> <td>   13.867</td> <td> 0.000</td> <td>    1.569</td> <td>    2.086</td>\n",
              "</tr>\n",
              "<tr>\n",
              "  <th>Genres_Beauty</th>                                <td>    1.9330</td> <td>    0.135</td> <td>   14.314</td> <td> 0.000</td> <td>    1.668</td> <td>    2.198</td>\n",
              "</tr>\n",
              "<tr>\n",
              "  <th>Genres_Board</th>                                 <td>    0.0455</td> <td>    0.097</td> <td>    0.470</td> <td> 0.639</td> <td>   -0.144</td> <td>    0.235</td>\n",
              "</tr>\n",
              "<tr>\n",
              "  <th>Genres_Board;Action & Adventure</th>              <td>    0.0357</td> <td>    0.491</td> <td>    0.073</td> <td> 0.942</td> <td>   -0.927</td> <td>    0.999</td>\n",
              "</tr>\n",
              "<tr>\n",
              "  <th>Genres_Board;Brain Games</th>                     <td>    0.4293</td> <td>    0.179</td> <td>    2.401</td> <td> 0.016</td> <td>    0.079</td> <td>    0.780</td>\n",
              "</tr>\n",
              "<tr>\n",
              "  <th>Genres_Board;Pretend Play</th>                    <td>-5.457e-12</td> <td> 6.63e-12</td> <td>   -0.823</td> <td> 0.410</td> <td>-1.85e-11</td> <td> 7.54e-12</td>\n",
              "</tr>\n",
              "<tr>\n",
              "  <th>Genres_Books & Reference</th>                     <td>    1.8831</td> <td>    0.129</td> <td>   14.569</td> <td> 0.000</td> <td>    1.630</td> <td>    2.137</td>\n",
              "</tr>\n",
              "<tr>\n",
              "  <th>Genres_Books & Reference;Education</th>           <td>   -0.2511</td> <td>    0.491</td> <td>   -0.511</td> <td> 0.609</td> <td>   -1.214</td> <td>    0.712</td>\n",
              "</tr>\n",
              "<tr>\n",
              "  <th>Genres_Business</th>                              <td>    1.7943</td> <td>    0.128</td> <td>   13.967</td> <td> 0.000</td> <td>    1.542</td> <td>    2.046</td>\n",
              "</tr>\n",
              "<tr>\n",
              "  <th>Genres_Card</th>                                  <td>   -0.0305</td> <td>    0.088</td> <td>   -0.348</td> <td> 0.728</td> <td>   -0.202</td> <td>    0.141</td>\n",
              "</tr>\n",
              "<tr>\n",
              "  <th>Genres_Card;Action & Adventure</th>               <td>    0.0348</td> <td>    0.352</td> <td>    0.099</td> <td> 0.921</td> <td>   -0.656</td> <td>    0.725</td>\n",
              "</tr>\n",
              "<tr>\n",
              "  <th>Genres_Card;Brain Games</th>                      <td>    0.6496</td> <td>    0.491</td> <td>    1.323</td> <td> 0.186</td> <td>   -0.313</td> <td>    1.612</td>\n",
              "</tr>\n",
              "<tr>\n",
              "  <th>Genres_Casino</th>                                <td>    0.0592</td> <td>    0.098</td> <td>    0.602</td> <td> 0.547</td> <td>   -0.133</td> <td>    0.252</td>\n",
              "</tr>\n",
              "<tr>\n",
              "  <th>Genres_Casual</th>                                <td>    0.1168</td> <td>    0.082</td> <td>    1.429</td> <td> 0.153</td> <td>   -0.043</td> <td>    0.277</td>\n",
              "</tr>\n",
              "<tr>\n",
              "  <th>Genres_Casual;Action & Adventure</th>             <td>    0.1873</td> <td>    0.159</td> <td>    1.179</td> <td> 0.239</td> <td>   -0.124</td> <td>    0.499</td>\n",
              "</tr>\n",
              "<tr>\n",
              "  <th>Genres_Casual;Brain Games</th>                    <td>    0.5367</td> <td>    0.176</td> <td>    3.053</td> <td> 0.002</td> <td>    0.192</td> <td>    0.881</td>\n",
              "</tr>\n",
              "<tr>\n",
              "  <th>Genres_Casual;Creativity</th>                     <td>    0.3428</td> <td>    0.209</td> <td>    1.641</td> <td> 0.101</td> <td>   -0.067</td> <td>    0.752</td>\n",
              "</tr>\n",
              "<tr>\n",
              "  <th>Genres_Casual;Education</th>                      <td>    0.3303</td> <td>    0.351</td> <td>    0.940</td> <td> 0.347</td> <td>   -0.358</td> <td>    1.019</td>\n",
              "</tr>\n",
              "<tr>\n",
              "  <th>Genres_Casual;Music & Video</th>                  <td>    0.3334</td> <td>    0.491</td> <td>    0.679</td> <td> 0.497</td> <td>   -0.630</td> <td>    1.297</td>\n",
              "</tr>\n",
              "<tr>\n",
              "  <th>Genres_Casual;Pretend Play</th>                   <td>    0.2136</td> <td>    0.123</td> <td>    1.737</td> <td> 0.082</td> <td>   -0.027</td> <td>    0.455</td>\n",
              "</tr>\n",
              "<tr>\n",
              "  <th>Genres_Comics</th>                                <td>    0.8872</td> <td>    0.187</td> <td>    4.756</td> <td> 0.000</td> <td>    0.521</td> <td>    1.253</td>\n",
              "</tr>\n",
              "<tr>\n",
              "  <th>Genres_Comics;Creativity</th>                     <td>    1.7290</td> <td>    0.337</td> <td>    5.132</td> <td> 0.000</td> <td>    1.069</td> <td>    2.389</td>\n",
              "</tr>\n",
              "<tr>\n",
              "  <th>Genres_Communication</th>                         <td>    1.7695</td> <td>    0.129</td> <td>   13.728</td> <td> 0.000</td> <td>    1.517</td> <td>    2.022</td>\n",
              "</tr>\n",
              "<tr>\n",
              "  <th>Genres_Communication;Creativity</th>              <td>    0.4034</td> <td>    0.491</td> <td>    0.821</td> <td> 0.412</td> <td>   -0.560</td> <td>    1.366</td>\n",
              "</tr>\n",
              "<tr>\n",
              "  <th>Genres_Dating</th>                                <td>    1.7175</td> <td>    0.130</td> <td>   13.227</td> <td> 0.000</td> <td>    1.463</td> <td>    1.972</td>\n",
              "</tr>\n",
              "<tr>\n",
              "  <th>Genres_Education</th>                             <td>    0.4233</td> <td>    0.081</td> <td>    5.234</td> <td> 0.000</td> <td>    0.265</td> <td>    0.582</td>\n",
              "</tr>\n",
              "<tr>\n",
              "  <th>Genres_Education;Action & Adventure</th>          <td>    0.7637</td> <td>    0.291</td> <td>    2.623</td> <td> 0.009</td> <td>    0.193</td> <td>    1.335</td>\n",
              "</tr>\n",
              "<tr>\n",
              "  <th>Genres_Education;Brain Games</th>                 <td>    0.2976</td> <td>    0.293</td> <td>    1.016</td> <td> 0.309</td> <td>   -0.276</td> <td>    0.872</td>\n",
              "</tr>\n",
              "<tr>\n",
              "  <th>Genres_Education;Creativity</th>                  <td>    0.7196</td> <td>    0.231</td> <td>    3.110</td> <td> 0.002</td> <td>    0.266</td> <td>    1.173</td>\n",
              "</tr>\n",
              "<tr>\n",
              "  <th>Genres_Education;Education</th>                   <td>    0.4962</td> <td>    0.122</td> <td>    4.077</td> <td> 0.000</td> <td>    0.258</td> <td>    0.735</td>\n",
              "</tr>\n",
              "<tr>\n",
              "  <th>Genres_Education;Music & Video</th>               <td>    0.1570</td> <td>    0.351</td> <td>    0.447</td> <td> 0.655</td> <td>   -0.532</td> <td>    0.846</td>\n",
              "</tr>\n",
              "<tr>\n",
              "  <th>Genres_Education;Pretend Play</th>                <td>    0.5640</td> <td>    0.136</td> <td>    4.161</td> <td> 0.000</td> <td>    0.298</td> <td>    0.830</td>\n",
              "</tr>\n",
              "<tr>\n",
              "  <th>Genres_Educational</th>                           <td>    0.1384</td> <td>    0.131</td> <td>    1.055</td> <td> 0.291</td> <td>   -0.119</td> <td>    0.396</td>\n",
              "</tr>\n",
              "<tr>\n",
              "  <th>Genres_Educational;Action & Adventure</th>        <td>    0.2273</td> <td>    0.290</td> <td>    0.783</td> <td> 0.434</td> <td>   -0.342</td> <td>    0.797</td>\n",
              "</tr>\n",
              "<tr>\n",
              "  <th>Genres_Educational;Brain Games</th>               <td>    0.6853</td> <td>    0.290</td> <td>    2.361</td> <td> 0.018</td> <td>    0.116</td> <td>    1.254</td>\n",
              "</tr>\n",
              "<tr>\n",
              "  <th>Genres_Educational;Creativity</th>                <td>    0.1471</td> <td>    0.291</td> <td>    0.506</td> <td> 0.613</td> <td>   -0.423</td> <td>    0.717</td>\n",
              "</tr>\n",
              "<tr>\n",
              "  <th>Genres_Educational;Education</th>                 <td>    0.4463</td> <td>    0.117</td> <td>    3.801</td> <td> 0.000</td> <td>    0.216</td> <td>    0.677</td>\n",
              "</tr>\n",
              "<tr>\n",
              "  <th>Genres_Educational;Pretend Play</th>              <td>    0.2967</td> <td>    0.154</td> <td>    1.923</td> <td> 0.055</td> <td>   -0.006</td> <td>    0.599</td>\n",
              "</tr>\n",
              "<tr>\n",
              "  <th>Genres_Entertainment</th>                         <td>    0.2311</td> <td>    0.080</td> <td>    2.890</td> <td> 0.004</td> <td>    0.074</td> <td>    0.388</td>\n",
              "</tr>\n",
              "<tr>\n",
              "  <th>Genres_Entertainment;Action & Adventure</th>      <td>    0.3932</td> <td>    0.351</td> <td>    1.119</td> <td> 0.263</td> <td>   -0.296</td> <td>    1.082</td>\n",
              "</tr>\n",
              "<tr>\n",
              "  <th>Genres_Entertainment;Brain Games</th>             <td>    0.3671</td> <td>    0.199</td> <td>    1.843</td> <td> 0.065</td> <td>   -0.023</td> <td>    0.757</td>\n",
              "</tr>\n",
              "<tr>\n",
              "  <th>Genres_Entertainment;Creativity</th>              <td>    0.5442</td> <td>    0.353</td> <td>    1.543</td> <td> 0.123</td> <td>   -0.147</td> <td>    1.236</td>\n",
              "</tr>\n",
              "<tr>\n",
              "  <th>Genres_Entertainment;Education</th>               <td>    0.5773</td> <td>    0.491</td> <td>    1.175</td> <td> 0.240</td> <td>   -0.386</td> <td>    1.540</td>\n",
              "</tr>\n",
              "<tr>\n",
              "  <th>Genres_Entertainment;Music & Video</th>           <td>    0.3248</td> <td>    0.146</td> <td>    2.218</td> <td> 0.027</td> <td>    0.038</td> <td>    0.612</td>\n",
              "</tr>\n",
              "<tr>\n",
              "  <th>Genres_Entertainment;Pretend Play</th>            <td>   -0.0475</td> <td>    0.351</td> <td>   -0.135</td> <td> 0.893</td> <td>   -0.736</td> <td>    0.641</td>\n",
              "</tr>\n",
              "<tr>\n",
              "  <th>Genres_Events</th>                                <td>    1.9661</td> <td>    0.134</td> <td>   14.721</td> <td> 0.000</td> <td>    1.704</td> <td>    2.228</td>\n",
              "</tr>\n",
              "<tr>\n",
              "  <th>Genres_Finance</th>                               <td>    1.7856</td> <td>    0.129</td> <td>   13.895</td> <td> 0.000</td> <td>    1.534</td> <td>    2.038</td>\n",
              "</tr>\n",
              "<tr>\n",
              "  <th>Genres_Food & Drink</th>                          <td>    1.7849</td> <td>    0.130</td> <td>   13.687</td> <td> 0.000</td> <td>    1.529</td> <td>    2.041</td>\n",
              "</tr>\n",
              "<tr>\n",
              "  <th>Genres_Health & Fitness</th>                      <td>    1.8192</td> <td>    0.129</td> <td>   14.140</td> <td> 0.000</td> <td>    1.567</td> <td>    2.071</td>\n",
              "</tr>\n",
              "<tr>\n",
              "  <th>Genres_Health & Fitness;Action & Adventure</th>   <td>   -0.1641</td> <td>    0.491</td> <td>   -0.334</td> <td> 0.738</td> <td>   -1.127</td> <td>    0.799</td>\n",
              "</tr>\n",
              "<tr>\n",
              "  <th>Genres_Health & Fitness;Education</th>            <td> 2.661e-12</td> <td> 3.73e-12</td> <td>    0.713</td> <td> 0.476</td> <td>-4.65e-12</td> <td> 9.98e-12</td>\n",
              "</tr>\n",
              "<tr>\n",
              "  <th>Genres_House & Home</th>                          <td>    1.8263</td> <td>    0.132</td> <td>   13.873</td> <td> 0.000</td> <td>    1.568</td> <td>    2.084</td>\n",
              "</tr>\n",
              "<tr>\n",
              "  <th>Genres_Libraries & Demo</th>                      <td>    1.8475</td> <td>    0.133</td> <td>   13.937</td> <td> 0.000</td> <td>    1.588</td> <td>    2.107</td>\n",
              "</tr>\n",
              "<tr>\n",
              "  <th>Genres_Lifestyle</th>                             <td>    1.7805</td> <td>    0.128</td> <td>   13.861</td> <td> 0.000</td> <td>    1.529</td> <td>    2.032</td>\n",
              "</tr>\n",
              "<tr>\n",
              "  <th>Genres_Lifestyle;Education</th>                   <td>    0.2822</td> <td>    0.491</td> <td>    0.575</td> <td> 0.566</td> <td>   -0.681</td> <td>    1.245</td>\n",
              "</tr>\n",
              "<tr>\n",
              "  <th>Genres_Lifestyle;Pretend Play</th>                <td> 2.833e-12</td> <td>    4e-12</td> <td>    0.708</td> <td> 0.479</td> <td>-5.01e-12</td> <td> 1.07e-11</td>\n",
              "</tr>\n",
              "<tr>\n",
              "  <th>Genres_Maps & Navigation</th>                     <td>    1.7466</td> <td>    0.130</td> <td>   13.406</td> <td> 0.000</td> <td>    1.491</td> <td>    2.002</td>\n",
              "</tr>\n",
              "<tr>\n",
              "  <th>Genres_Medical</th>                               <td>    1.8362</td> <td>    0.128</td> <td>   14.302</td> <td> 0.000</td> <td>    1.585</td> <td>    2.088</td>\n",
              "</tr>\n",
              "<tr>\n",
              "  <th>Genres_Music</th>                                 <td>   -0.1054</td> <td>    0.130</td> <td>   -0.811</td> <td> 0.417</td> <td>   -0.360</td> <td>    0.149</td>\n",
              "</tr>\n",
              "<tr>\n",
              "  <th>Genres_Music & Audio;Music & Video</th>           <td>    0.6657</td> <td>    0.491</td> <td>    1.355</td> <td> 0.175</td> <td>   -0.297</td> <td>    1.629</td>\n",
              "</tr>\n",
              "<tr>\n",
              "  <th>Genres_Music;Music & Video</th>                   <td>    0.7102</td> <td>    0.351</td> <td>    2.021</td> <td> 0.043</td> <td>    0.021</td> <td>    1.399</td>\n",
              "</tr>\n",
              "<tr>\n",
              "  <th>Genres_News & Magazines</th>                      <td>    1.7746</td> <td>    0.129</td> <td>   13.769</td> <td> 0.000</td> <td>    1.522</td> <td>    2.027</td>\n",
              "</tr>\n",
              "<tr>\n",
              "  <th>Genres_Parenting</th>                             <td>    1.0243</td> <td>    0.131</td> <td>    7.822</td> <td> 0.000</td> <td>    0.768</td> <td>    1.281</td>\n",
              "</tr>\n",
              "<tr>\n",
              "  <th>Genres_Parenting;Brain Games</th>                 <td>-5.489e-13</td> <td> 9.62e-13</td> <td>   -0.570</td> <td> 0.568</td> <td>-2.44e-12</td> <td> 1.34e-12</td>\n",
              "</tr>\n",
              "<tr>\n",
              "  <th>Genres_Parenting;Education</th>                   <td>    0.6723</td> <td>    0.227</td> <td>    2.965</td> <td> 0.003</td> <td>    0.228</td> <td>    1.117</td>\n",
              "</tr>\n",
              "<tr>\n",
              "  <th>Genres_Parenting;Music & Video</th>               <td>    1.1374</td> <td>    0.178</td> <td>    6.385</td> <td> 0.000</td> <td>    0.788</td> <td>    1.487</td>\n",
              "</tr>\n",
              "<tr>\n",
              "  <th>Genres_Personalization</th>                       <td>    1.8723</td> <td>    0.129</td> <td>   14.563</td> <td> 0.000</td> <td>    1.620</td> <td>    2.124</td>\n",
              "</tr>\n",
              "<tr>\n",
              "  <th>Genres_Photography</th>                           <td>    1.7898</td> <td>    0.129</td> <td>   13.896</td> <td> 0.000</td> <td>    1.537</td> <td>    2.042</td>\n",
              "</tr>\n",
              "<tr>\n",
              "  <th>Genres_Productivity</th>                          <td>    1.8130</td> <td>    0.129</td> <td>   14.099</td> <td> 0.000</td> <td>    1.561</td> <td>    2.065</td>\n",
              "</tr>\n",
              "<tr>\n",
              "  <th>Genres_Puzzle</th>                                <td>    0.3251</td> <td>    0.078</td> <td>    4.173</td> <td> 0.000</td> <td>    0.172</td> <td>    0.478</td>\n",
              "</tr>\n",
              "<tr>\n",
              "  <th>Genres_Puzzle;Action & Adventure</th>             <td>    0.2474</td> <td>    0.230</td> <td>    1.076</td> <td> 0.282</td> <td>   -0.203</td> <td>    0.698</td>\n",
              "</tr>\n",
              "<tr>\n",
              "  <th>Genres_Puzzle;Brain Games</th>                    <td>    0.3840</td> <td>    0.143</td> <td>    2.691</td> <td> 0.007</td> <td>    0.104</td> <td>    0.664</td>\n",
              "</tr>\n",
              "<tr>\n",
              "  <th>Genres_Puzzle;Creativity</th>                     <td>    0.3472</td> <td>    0.351</td> <td>    0.988</td> <td> 0.323</td> <td>   -0.342</td> <td>    1.036</td>\n",
              "</tr>\n",
              "<tr>\n",
              "  <th>Genres_Puzzle;Education</th>                      <td>    0.8149</td> <td>    0.491</td> <td>    1.659</td> <td> 0.097</td> <td>   -0.148</td> <td>    1.778</td>\n",
              "</tr>\n",
              "<tr>\n",
              "  <th>Genres_Racing</th>                                <td>   -0.0667</td> <td>    0.072</td> <td>   -0.928</td> <td> 0.353</td> <td>   -0.208</td> <td>    0.074</td>\n",
              "</tr>\n",
              "<tr>\n",
              "  <th>Genres_Racing;Action & Adventure</th>             <td>    0.3608</td> <td>    0.150</td> <td>    2.402</td> <td> 0.016</td> <td>    0.066</td> <td>    0.655</td>\n",
              "</tr>\n",
              "<tr>\n",
              "  <th>Genres_Racing;Pretend Play</th>                   <td>    0.8945</td> <td>    0.491</td> <td>    1.820</td> <td> 0.069</td> <td>   -0.069</td> <td>    1.858</td>\n",
              "</tr>\n",
              "<tr>\n",
              "  <th>Genres_Role Playing</th>                          <td>    0.1300</td> <td>    0.086</td> <td>    1.511</td> <td> 0.131</td> <td>   -0.039</td> <td>    0.299</td>\n",
              "</tr>\n",
              "<tr>\n",
              "  <th>Genres_Role Playing;Action & Adventure</th>       <td>    0.2220</td> <td>    0.254</td> <td>    0.874</td> <td> 0.382</td> <td>   -0.276</td> <td>    0.720</td>\n",
              "</tr>\n",
              "<tr>\n",
              "  <th>Genres_Role Playing;Brain Games</th>              <td>    0.2980</td> <td>    0.491</td> <td>    0.607</td> <td> 0.544</td> <td>   -0.665</td> <td>    1.261</td>\n",
              "</tr>\n",
              "<tr>\n",
              "  <th>Genres_Role Playing;Pretend Play</th>             <td>    0.3661</td> <td>    0.290</td> <td>    1.261</td> <td> 0.207</td> <td>   -0.203</td> <td>    0.935</td>\n",
              "</tr>\n",
              "<tr>\n",
              "  <th>Genres_Shopping</th>                              <td>    1.8176</td> <td>    0.129</td> <td>   14.087</td> <td> 0.000</td> <td>    1.565</td> <td>    2.071</td>\n",
              "</tr>\n",
              "<tr>\n",
              "  <th>Genres_Simulation</th>                            <td>    0.1705</td> <td>    0.083</td> <td>    2.051</td> <td> 0.040</td> <td>    0.008</td> <td>    0.334</td>\n",
              "</tr>\n",
              "<tr>\n",
              "  <th>Genres_Simulation;Action & Adventure</th>         <td>    0.3790</td> <td>    0.176</td> <td>    2.154</td> <td> 0.031</td> <td>    0.034</td> <td>    0.724</td>\n",
              "</tr>\n",
              "<tr>\n",
              "  <th>Genres_Simulation;Education</th>                  <td>    0.0502</td> <td>    0.487</td> <td>    0.103</td> <td> 0.918</td> <td>   -0.905</td> <td>    1.006</td>\n",
              "</tr>\n",
              "<tr>\n",
              "  <th>Genres_Simulation;Pretend Play</th>               <td>    0.1978</td> <td>    0.351</td> <td>    0.563</td> <td> 0.573</td> <td>   -0.491</td> <td>    0.887</td>\n",
              "</tr>\n",
              "<tr>\n",
              "  <th>Genres_Social</th>                                <td>    1.8042</td> <td>    0.129</td> <td>   14.008</td> <td> 0.000</td> <td>    1.552</td> <td>    2.057</td>\n",
              "</tr>\n",
              "<tr>\n",
              "  <th>Genres_Sports</th>                                <td>    0.0406</td> <td>    0.345</td> <td>    0.118</td> <td> 0.906</td> <td>   -0.636</td> <td>    0.718</td>\n",
              "</tr>\n",
              "<tr>\n",
              "  <th>Genres_Sports;Action & Adventure</th>             <td>    0.1986</td> <td>    0.254</td> <td>    0.781</td> <td> 0.435</td> <td>   -0.300</td> <td>    0.697</td>\n",
              "</tr>\n",
              "<tr>\n",
              "  <th>Genres_Strategy</th>                              <td>    0.0515</td> <td>    0.094</td> <td>    0.546</td> <td> 0.585</td> <td>   -0.133</td> <td>    0.236</td>\n",
              "</tr>\n",
              "<tr>\n",
              "  <th>Genres_Strategy;Action & Adventure</th>           <td>         0</td> <td>        0</td> <td>      nan</td> <td>   nan</td> <td>        0</td> <td>        0</td>\n",
              "</tr>\n",
              "<tr>\n",
              "  <th>Genres_Strategy;Creativity</th>                   <td>         0</td> <td>        0</td> <td>      nan</td> <td>   nan</td> <td>        0</td> <td>        0</td>\n",
              "</tr>\n",
              "<tr>\n",
              "  <th>Genres_Strategy;Education</th>                    <td>    0.7989</td> <td>    0.491</td> <td>    1.626</td> <td> 0.104</td> <td>   -0.164</td> <td>    1.762</td>\n",
              "</tr>\n",
              "<tr>\n",
              "  <th>Genres_Tools</th>                                 <td>    1.1022</td> <td>    0.183</td> <td>    6.011</td> <td> 0.000</td> <td>    0.743</td> <td>    1.462</td>\n",
              "</tr>\n",
              "<tr>\n",
              "  <th>Genres_Tools;Education</th>                       <td>    1.2992</td> <td>    0.335</td> <td>    3.881</td> <td> 0.000</td> <td>    0.643</td> <td>    1.955</td>\n",
              "</tr>\n",
              "<tr>\n",
              "  <th>Genres_Travel & Local</th>                        <td>    1.1427</td> <td>    0.185</td> <td>    6.182</td> <td> 0.000</td> <td>    0.780</td> <td>    1.505</td>\n",
              "</tr>\n",
              "<tr>\n",
              "  <th>Genres_Travel & Local;Action & Adventure</th>     <td>    1.2550</td> <td>    0.335</td> <td>    3.748</td> <td> 0.000</td> <td>    0.599</td> <td>    1.911</td>\n",
              "</tr>\n",
              "<tr>\n",
              "  <th>Genres_Trivia</th>                                <td>   -0.0297</td> <td>    0.114</td> <td>   -0.260</td> <td> 0.795</td> <td>   -0.254</td> <td>    0.195</td>\n",
              "</tr>\n",
              "<tr>\n",
              "  <th>Genres_Video Players & Editors</th>               <td>    0.1383</td> <td>    0.602</td> <td>    0.230</td> <td> 0.818</td> <td>   -1.041</td> <td>    1.318</td>\n",
              "</tr>\n",
              "<tr>\n",
              "  <th>Genres_Video Players & Editors;Creativity</th>    <td>   -0.0180</td> <td>    0.491</td> <td>   -0.037</td> <td> 0.971</td> <td>   -0.981</td> <td>    0.945</td>\n",
              "</tr>\n",
              "<tr>\n",
              "  <th>Genres_Video Players & Editors;Music & Video</th> <td>    0.0855</td> <td>    0.351</td> <td>    0.243</td> <td> 0.808</td> <td>   -0.603</td> <td>    0.774</td>\n",
              "</tr>\n",
              "<tr>\n",
              "  <th>Genres_Weather</th>                               <td>    1.8294</td> <td>    0.132</td> <td>   13.824</td> <td> 0.000</td> <td>    1.570</td> <td>    2.089</td>\n",
              "</tr>\n",
              "<tr>\n",
              "  <th>Genres_Word</th>                                  <td>    0.1088</td> <td>    0.120</td> <td>    0.909</td> <td> 0.363</td> <td>   -0.126</td> <td>    0.343</td>\n",
              "</tr>\n",
              "</table>\n",
              "<table class=\"simpletable\">\n",
              "<tr>\n",
              "  <th>Omnibus:</th>       <td>2334.947</td> <th>  Durbin-Watson:     </th> <td>   2.014</td> \n",
              "</tr>\n",
              "<tr>\n",
              "  <th>Prob(Omnibus):</th>  <td> 0.000</td>  <th>  Jarque-Bera (JB):  </th> <td>14034.744</td>\n",
              "</tr>\n",
              "<tr>\n",
              "  <th>Skew:</th>           <td>-1.684</td>  <th>  Prob(JB):          </th> <td>    0.00</td> \n",
              "</tr>\n",
              "<tr>\n",
              "  <th>Kurtosis:</th>       <td> 9.553</td>  <th>  Cond. No.          </th> <td>1.41e+21</td> \n",
              "</tr>\n",
              "</table><br/><br/>Warnings:<br/>[1] Standard Errors assume that the covariance matrix of the errors is correctly specified.<br/>[2] The smallest eigenvalue is 3.23e-30. This might indicate that there are<br/>strong multicollinearity problems or that the design matrix is singular."
            ],
            "text/plain": [
              "<class 'statsmodels.iolib.summary.Summary'>\n",
              "\"\"\"\n",
              "                                 OLS Regression Results                                \n",
              "=======================================================================================\n",
              "Dep. Variable:                 Rating   R-squared (uncentered):                   0.987\n",
              "Model:                            OLS   Adj. R-squared (uncentered):              0.987\n",
              "Method:                 Least Squares   F-statistic:                              3758.\n",
              "Date:                Tue, 30 May 2023   Prob (F-statistic):                        0.00\n",
              "Time:                        13:42:05   Log-Likelihood:                         -4256.6\n",
              "No. Observations:                6205   AIC:                                      8759.\n",
              "Df Residuals:                    6082   BIC:                                      9587.\n",
              "Df Model:                         123                                                  \n",
              "Covariance Type:            nonrobust                                                  \n",
              "================================================================================================================\n",
              "                                                   coef    std err          t      P>|t|      [0.025      0.975]\n",
              "----------------------------------------------------------------------------------------------------------------\n",
              "Reviews                                          0.1738      0.006     27.610      0.000       0.161       0.186\n",
              "Size                                         -1.331e-07   3.27e-07     -0.407      0.684   -7.74e-07    5.08e-07\n",
              "Installs                                        -0.1482      0.006    -23.671      0.000      -0.160      -0.136\n",
              "Price                                            0.0002      0.003      0.059      0.953      -0.006       0.006\n",
              "Category_AUTO_AND_VEHICLES                       1.8278      0.132     13.867      0.000       1.569       2.086\n",
              "Category_BEAUTY                                  1.9330      0.135     14.314      0.000       1.668       2.198\n",
              "Category_BOOKS_AND_REFERENCE                     1.8831      0.129     14.569      0.000       1.630       2.137\n",
              "Category_BUSINESS                                1.7943      0.128     13.967      0.000       1.542       2.046\n",
              "Category_COMICS                                  2.6161      0.233     11.238      0.000       2.160       3.073\n",
              "Category_COMMUNICATION                           1.7695      0.129     13.728      0.000       1.517       2.022\n",
              "Category_DATING                                  1.7175      0.130     13.227      0.000       1.463       1.972\n",
              "Category_EDUCATION                               3.3217      0.268     12.409      0.000       2.797       3.846\n",
              "Category_ENTERTAINMENT                           3.2252      0.268     12.046      0.000       2.700       3.750\n",
              "Category_EVENTS                                  1.9661      0.134     14.721      0.000       1.704       2.228\n",
              "Category_FAMILY                                  3.3510      0.261     12.863      0.000       2.840       3.862\n",
              "Category_FINANCE                                 1.7856      0.129     13.895      0.000       1.534       2.038\n",
              "Category_FOOD_AND_DRINK                          1.7849      0.130     13.687      0.000       1.529       2.041\n",
              "Category_GAME                                    3.5623      0.256     13.891      0.000       3.060       4.065\n",
              "Category_HEALTH_AND_FITNESS                      1.8192      0.129     14.140      0.000       1.567       2.071\n",
              "Category_HOUSE_AND_HOME                          1.8263      0.132     13.873      0.000       1.568       2.084\n",
              "Category_LIBRARIES_AND_DEMO                      1.8475      0.133     13.937      0.000       1.588       2.107\n",
              "Category_LIFESTYLE                               1.7805      0.128     13.861      0.000       1.529       2.032\n",
              "Category_MAPS_AND_NAVIGATION                     1.7466      0.130     13.406      0.000       1.491       2.002\n",
              "Category_MEDICAL                                 1.8362      0.128     14.302      0.000       1.585       2.088\n",
              "Category_NEWS_AND_MAGAZINES                      1.7746      0.129     13.769      0.000       1.522       2.027\n",
              "Category_PARENTING                               2.8340      0.212     13.398      0.000       2.419       3.249\n",
              "Category_PERSONALIZATION                         1.8723      0.129     14.563      0.000       1.620       2.124\n",
              "Category_PHOTOGRAPHY                             1.7898      0.129     13.896      0.000       1.537       2.042\n",
              "Category_PRODUCTIVITY                            1.8130      0.129     14.099      0.000       1.561       2.065\n",
              "Category_SHOPPING                                1.8176      0.129     14.087      0.000       1.565       2.071\n",
              "Category_SOCIAL                                  1.8042      0.129     14.008      0.000       1.552       2.057\n",
              "Category_SPORTS                                  3.5325      0.429      8.234      0.000       2.691       4.374\n",
              "Category_TOOLS                                   2.4014      0.235     10.222      0.000       1.941       2.862\n",
              "Category_TRAVEL_AND_LOCAL                        2.3977      0.235     10.194      0.000       1.937       2.859\n",
              "Category_VIDEO_PLAYERS                           3.3177      0.650      5.108      0.000       2.044       4.591\n",
              "Category_WEATHER                                 1.8294      0.132     13.824      0.000       1.570       2.089\n",
              "Type_Paid                                       -0.0832      0.031     -2.719      0.007      -0.143      -0.023\n",
              "Content Rating_Everyone                          0.9742      0.254      3.842      0.000       0.477       1.471\n",
              "Content Rating_Everyone 10+                      0.9610      0.255      3.764      0.000       0.460       1.462\n",
              "Content Rating_Mature 17+                        0.9194      0.256      3.598      0.000       0.418       1.420\n",
              "Content Rating_Teen                              0.9624      0.254      3.790      0.000       0.465       1.460\n",
              "Content Rating_Unrated                           0.9706      0.548      1.771      0.077      -0.104       2.045\n",
              "Genres_Action;Action & Adventure                 0.2836      0.140      2.020      0.043       0.008       0.559\n",
              "Genres_Adventure                                -0.0078      0.077     -0.102      0.919      -0.158       0.143\n",
              "Genres_Adventure;Action & Adventure              0.1765      0.291      0.608      0.543      -0.393       0.746\n",
              "Genres_Adventure;Brain Games                  2.422e-11   3.01e-11      0.804      0.422   -3.49e-11    8.33e-11\n",
              "Genres_Adventure;Education                      -0.0090      0.491     -0.018      0.985      -0.973       0.955\n",
              "Genres_Arcade                                    0.0466      0.056      0.836      0.403      -0.063       0.156\n",
              "Genres_Arcade;Action & Adventure                 0.3087      0.178      1.734      0.083      -0.040       0.658\n",
              "Genres_Arcade;Pretend Play                       0.4841      0.491      0.985      0.325      -0.479       1.448\n",
              "Genres_Art & Design                              3.8781      0.266     14.554      0.000       3.356       4.400\n",
              "Genres_Art & Design;Creativity                   3.2673      0.299     10.924      0.000       2.681       3.854\n",
              "Genres_Art & Design;Pretend Play                 3.6776      0.549      6.700      0.000       2.602       4.754\n",
              "Genres_Auto & Vehicles                           1.8278      0.132     13.867      0.000       1.569       2.086\n",
              "Genres_Beauty                                    1.9330      0.135     14.314      0.000       1.668       2.198\n",
              "Genres_Board                                     0.0455      0.097      0.470      0.639      -0.144       0.235\n",
              "Genres_Board;Action & Adventure                  0.0357      0.491      0.073      0.942      -0.927       0.999\n",
              "Genres_Board;Brain Games                         0.4293      0.179      2.401      0.016       0.079       0.780\n",
              "Genres_Board;Pretend Play                    -5.457e-12   6.63e-12     -0.823      0.410   -1.85e-11    7.54e-12\n",
              "Genres_Books & Reference                         1.8831      0.129     14.569      0.000       1.630       2.137\n",
              "Genres_Books & Reference;Education              -0.2511      0.491     -0.511      0.609      -1.214       0.712\n",
              "Genres_Business                                  1.7943      0.128     13.967      0.000       1.542       2.046\n",
              "Genres_Card                                     -0.0305      0.088     -0.348      0.728      -0.202       0.141\n",
              "Genres_Card;Action & Adventure                   0.0348      0.352      0.099      0.921      -0.656       0.725\n",
              "Genres_Card;Brain Games                          0.6496      0.491      1.323      0.186      -0.313       1.612\n",
              "Genres_Casino                                    0.0592      0.098      0.602      0.547      -0.133       0.252\n",
              "Genres_Casual                                    0.1168      0.082      1.429      0.153      -0.043       0.277\n",
              "Genres_Casual;Action & Adventure                 0.1873      0.159      1.179      0.239      -0.124       0.499\n",
              "Genres_Casual;Brain Games                        0.5367      0.176      3.053      0.002       0.192       0.881\n",
              "Genres_Casual;Creativity                         0.3428      0.209      1.641      0.101      -0.067       0.752\n",
              "Genres_Casual;Education                          0.3303      0.351      0.940      0.347      -0.358       1.019\n",
              "Genres_Casual;Music & Video                      0.3334      0.491      0.679      0.497      -0.630       1.297\n",
              "Genres_Casual;Pretend Play                       0.2136      0.123      1.737      0.082      -0.027       0.455\n",
              "Genres_Comics                                    0.8872      0.187      4.756      0.000       0.521       1.253\n",
              "Genres_Comics;Creativity                         1.7290      0.337      5.132      0.000       1.069       2.389\n",
              "Genres_Communication                             1.7695      0.129     13.728      0.000       1.517       2.022\n",
              "Genres_Communication;Creativity                  0.4034      0.491      0.821      0.412      -0.560       1.366\n",
              "Genres_Dating                                    1.7175      0.130     13.227      0.000       1.463       1.972\n",
              "Genres_Education                                 0.4233      0.081      5.234      0.000       0.265       0.582\n",
              "Genres_Education;Action & Adventure              0.7637      0.291      2.623      0.009       0.193       1.335\n",
              "Genres_Education;Brain Games                     0.2976      0.293      1.016      0.309      -0.276       0.872\n",
              "Genres_Education;Creativity                      0.7196      0.231      3.110      0.002       0.266       1.173\n",
              "Genres_Education;Education                       0.4962      0.122      4.077      0.000       0.258       0.735\n",
              "Genres_Education;Music & Video                   0.1570      0.351      0.447      0.655      -0.532       0.846\n",
              "Genres_Education;Pretend Play                    0.5640      0.136      4.161      0.000       0.298       0.830\n",
              "Genres_Educational                               0.1384      0.131      1.055      0.291      -0.119       0.396\n",
              "Genres_Educational;Action & Adventure            0.2273      0.290      0.783      0.434      -0.342       0.797\n",
              "Genres_Educational;Brain Games                   0.6853      0.290      2.361      0.018       0.116       1.254\n",
              "Genres_Educational;Creativity                    0.1471      0.291      0.506      0.613      -0.423       0.717\n",
              "Genres_Educational;Education                     0.4463      0.117      3.801      0.000       0.216       0.677\n",
              "Genres_Educational;Pretend Play                  0.2967      0.154      1.923      0.055      -0.006       0.599\n",
              "Genres_Entertainment                             0.2311      0.080      2.890      0.004       0.074       0.388\n",
              "Genres_Entertainment;Action & Adventure          0.3932      0.351      1.119      0.263      -0.296       1.082\n",
              "Genres_Entertainment;Brain Games                 0.3671      0.199      1.843      0.065      -0.023       0.757\n",
              "Genres_Entertainment;Creativity                  0.5442      0.353      1.543      0.123      -0.147       1.236\n",
              "Genres_Entertainment;Education                   0.5773      0.491      1.175      0.240      -0.386       1.540\n",
              "Genres_Entertainment;Music & Video               0.3248      0.146      2.218      0.027       0.038       0.612\n",
              "Genres_Entertainment;Pretend Play               -0.0475      0.351     -0.135      0.893      -0.736       0.641\n",
              "Genres_Events                                    1.9661      0.134     14.721      0.000       1.704       2.228\n",
              "Genres_Finance                                   1.7856      0.129     13.895      0.000       1.534       2.038\n",
              "Genres_Food & Drink                              1.7849      0.130     13.687      0.000       1.529       2.041\n",
              "Genres_Health & Fitness                          1.8192      0.129     14.140      0.000       1.567       2.071\n",
              "Genres_Health & Fitness;Action & Adventure      -0.1641      0.491     -0.334      0.738      -1.127       0.799\n",
              "Genres_Health & Fitness;Education             2.661e-12   3.73e-12      0.713      0.476   -4.65e-12    9.98e-12\n",
              "Genres_House & Home                              1.8263      0.132     13.873      0.000       1.568       2.084\n",
              "Genres_Libraries & Demo                          1.8475      0.133     13.937      0.000       1.588       2.107\n",
              "Genres_Lifestyle                                 1.7805      0.128     13.861      0.000       1.529       2.032\n",
              "Genres_Lifestyle;Education                       0.2822      0.491      0.575      0.566      -0.681       1.245\n",
              "Genres_Lifestyle;Pretend Play                 2.833e-12      4e-12      0.708      0.479   -5.01e-12    1.07e-11\n",
              "Genres_Maps & Navigation                         1.7466      0.130     13.406      0.000       1.491       2.002\n",
              "Genres_Medical                                   1.8362      0.128     14.302      0.000       1.585       2.088\n",
              "Genres_Music                                    -0.1054      0.130     -0.811      0.417      -0.360       0.149\n",
              "Genres_Music & Audio;Music & Video               0.6657      0.491      1.355      0.175      -0.297       1.629\n",
              "Genres_Music;Music & Video                       0.7102      0.351      2.021      0.043       0.021       1.399\n",
              "Genres_News & Magazines                          1.7746      0.129     13.769      0.000       1.522       2.027\n",
              "Genres_Parenting                                 1.0243      0.131      7.822      0.000       0.768       1.281\n",
              "Genres_Parenting;Brain Games                 -5.489e-13   9.62e-13     -0.570      0.568   -2.44e-12    1.34e-12\n",
              "Genres_Parenting;Education                       0.6723      0.227      2.965      0.003       0.228       1.117\n",
              "Genres_Parenting;Music & Video                   1.1374      0.178      6.385      0.000       0.788       1.487\n",
              "Genres_Personalization                           1.8723      0.129     14.563      0.000       1.620       2.124\n",
              "Genres_Photography                               1.7898      0.129     13.896      0.000       1.537       2.042\n",
              "Genres_Productivity                              1.8130      0.129     14.099      0.000       1.561       2.065\n",
              "Genres_Puzzle                                    0.3251      0.078      4.173      0.000       0.172       0.478\n",
              "Genres_Puzzle;Action & Adventure                 0.2474      0.230      1.076      0.282      -0.203       0.698\n",
              "Genres_Puzzle;Brain Games                        0.3840      0.143      2.691      0.007       0.104       0.664\n",
              "Genres_Puzzle;Creativity                         0.3472      0.351      0.988      0.323      -0.342       1.036\n",
              "Genres_Puzzle;Education                          0.8149      0.491      1.659      0.097      -0.148       1.778\n",
              "Genres_Racing                                   -0.0667      0.072     -0.928      0.353      -0.208       0.074\n",
              "Genres_Racing;Action & Adventure                 0.3608      0.150      2.402      0.016       0.066       0.655\n",
              "Genres_Racing;Pretend Play                       0.8945      0.491      1.820      0.069      -0.069       1.858\n",
              "Genres_Role Playing                              0.1300      0.086      1.511      0.131      -0.039       0.299\n",
              "Genres_Role Playing;Action & Adventure           0.2220      0.254      0.874      0.382      -0.276       0.720\n",
              "Genres_Role Playing;Brain Games                  0.2980      0.491      0.607      0.544      -0.665       1.261\n",
              "Genres_Role Playing;Pretend Play                 0.3661      0.290      1.261      0.207      -0.203       0.935\n",
              "Genres_Shopping                                  1.8176      0.129     14.087      0.000       1.565       2.071\n",
              "Genres_Simulation                                0.1705      0.083      2.051      0.040       0.008       0.334\n",
              "Genres_Simulation;Action & Adventure             0.3790      0.176      2.154      0.031       0.034       0.724\n",
              "Genres_Simulation;Education                      0.0502      0.487      0.103      0.918      -0.905       1.006\n",
              "Genres_Simulation;Pretend Play                   0.1978      0.351      0.563      0.573      -0.491       0.887\n",
              "Genres_Social                                    1.8042      0.129     14.008      0.000       1.552       2.057\n",
              "Genres_Sports                                    0.0406      0.345      0.118      0.906      -0.636       0.718\n",
              "Genres_Sports;Action & Adventure                 0.1986      0.254      0.781      0.435      -0.300       0.697\n",
              "Genres_Strategy                                  0.0515      0.094      0.546      0.585      -0.133       0.236\n",
              "Genres_Strategy;Action & Adventure                    0          0        nan        nan           0           0\n",
              "Genres_Strategy;Creativity                            0          0        nan        nan           0           0\n",
              "Genres_Strategy;Education                        0.7989      0.491      1.626      0.104      -0.164       1.762\n",
              "Genres_Tools                                     1.1022      0.183      6.011      0.000       0.743       1.462\n",
              "Genres_Tools;Education                           1.2992      0.335      3.881      0.000       0.643       1.955\n",
              "Genres_Travel & Local                            1.1427      0.185      6.182      0.000       0.780       1.505\n",
              "Genres_Travel & Local;Action & Adventure         1.2550      0.335      3.748      0.000       0.599       1.911\n",
              "Genres_Trivia                                   -0.0297      0.114     -0.260      0.795      -0.254       0.195\n",
              "Genres_Video Players & Editors                   0.1383      0.602      0.230      0.818      -1.041       1.318\n",
              "Genres_Video Players & Editors;Creativity       -0.0180      0.491     -0.037      0.971      -0.981       0.945\n",
              "Genres_Video Players & Editors;Music & Video     0.0855      0.351      0.243      0.808      -0.603       0.774\n",
              "Genres_Weather                                   1.8294      0.132     13.824      0.000       1.570       2.089\n",
              "Genres_Word                                      0.1088      0.120      0.909      0.363      -0.126       0.343\n",
              "==============================================================================\n",
              "Omnibus:                     2334.947   Durbin-Watson:                   2.014\n",
              "Prob(Omnibus):                  0.000   Jarque-Bera (JB):            14034.744\n",
              "Skew:                          -1.684   Prob(JB):                         0.00\n",
              "Kurtosis:                       9.553   Cond. No.                     1.41e+21\n",
              "==============================================================================\n",
              "\n",
              "Warnings:\n",
              "[1] Standard Errors assume that the covariance matrix of the errors is correctly specified.\n",
              "[2] The smallest eigenvalue is 3.23e-30. This might indicate that there are\n",
              "strong multicollinearity problems or that the design matrix is singular.\n",
              "\"\"\""
            ]
          },
          "execution_count": 123,
          "metadata": {},
          "output_type": "execute_result"
        }
      ],
      "source": [
        "from statsmodels.api import OLS\n",
        "results=OLS( y_train,X_train).fit()\n",
        "results.summary()"
      ]
    },
    {
      "cell_type": "code",
      "execution_count": null,
      "metadata": {
        "id": "-31BLdEQn3tM"
      },
      "outputs": [],
      "source": []
    }
  ],
  "metadata": {
    "kernelspec": {
      "display_name": "Python 3",
      "language": "python",
      "name": "python3"
    },
    "language_info": {
      "codemirror_mode": {
        "name": "ipython",
        "version": 3
      },
      "file_extension": ".py",
      "mimetype": "text/x-python",
      "name": "python",
      "nbconvert_exporter": "python",
      "pygments_lexer": "ipython3",
      "version": "3.7.6"
    },
    "colab": {
      "provenance": []
    }
  },
  "nbformat": 4,
  "nbformat_minor": 0
}